{
  "nbformat": 4,
  "nbformat_minor": 0,
  "metadata": {
    "colab": {
      "name": "gogogobb.ipynb",
      "provenance": [],
      "collapsed_sections": [],
      "authorship_tag": "ABX9TyMJjT1KtuV0TSTPrxEc25k2",
      "include_colab_link": true
    },
    "kernelspec": {
      "name": "python3",
      "display_name": "Python 3"
    }
  },
  "cells": [
    {
      "cell_type": "markdown",
      "metadata": {
        "id": "view-in-github",
        "colab_type": "text"
      },
      "source": [
        "<a href=\"https://colab.research.google.com/github/kentokura/gob/blob/main/gogogobb.ipynb\" target=\"_parent\"><img src=\"https://colab.research.google.com/assets/colab-badge.svg\" alt=\"Open In Colab\"/></a>"
      ]
    },
    {
      "cell_type": "markdown",
      "metadata": {
        "id": "awifDYZM5IEB"
      },
      "source": [
        "# Pythonでゴブレットゴブラーズのゲーム木を作成する\n",
        "\n",
        "- [ゴブレットゴブラーズ (日本語版)](https://sgrk.blog.fc2.com/blog-entry-3687.html)\n",
        "- [ソースコード設計スライド](https://docs.google.com/presentation/d/1K8fbRlk24Y_J3M--F-WnYYN0hddL89w3EGN4Zgw-L1g/edit?usp=sharing)"
      ]
    },
    {
      "cell_type": "markdown",
      "metadata": {
        "id": "ATDqK41c6vTr"
      },
      "source": [
        "## stateを定義"
      ]
    },
    {
      "cell_type": "markdown",
      "metadata": {
        "id": "3VqX1PtG_GQl"
      },
      "source": [
        "set_stateとchoise_stateの２種類がある。  \n",
        "必要な情報を84bitで表す。  \n",
        "state = 0b_0_0_0_000000_000000000_000000000000000000000000000000000000000000000000000000_000000000000\n",
        "\n",
        "\n",
        "| 区分 | is_first | is_choise | is_choise_board | choise_piece_type | choise_piece | board | hand |\n",
        "| ---- | ---- | ---- | ---- | ---- | ---- | ---- | ---- |\n",
        "| bit数 | 1bit | 1bit | 1bit | 6bit | 9bit | 54bit | 12bit |\n",
        "| 例 | 1 | 1 | 1 | 100000 | 100000000 | 010000000 001000000 000110000 000000000 000000000 000000000 | 00 00 00 00 00 00 |\n",
        "| 説明 | 手番 | モード | 持ち上げている駒は盤か手か | 持ち上げている駒の種類[rl,rm,rs,bl,bm,bs] | 持ち上げている駒のマス[0,1,2,3,4,5,6,7,8] | 盤面に置いてある駒[rl0, rl1, ..., rm0..., bl0...] | 手駒[rlの個数, rmの...] |\n",
        "\n",
        "説明の補足 :   \n",
        "- hand  “00”...その駒は持ってない, “01”...一つ持ってる, “11”...２つ持ってる\n"
      ]
    },
    {
      "cell_type": "code",
      "metadata": {
        "colab": {
          "base_uri": "https://localhost:8080/"
        },
        "id": "fFYAkYl4I2fW",
        "outputId": "d360513f-05ec-4cea-f357-126f45f509d8"
      },
      "source": [
        "# 確認\n",
        "state = 0b_1_0_0_100000_100000000_100000000000000000000000000000000000000000000000000000_100000000000\n",
        "print(state) # 10進数\n",
        "print(f'{state:084b}')#bin(プレフィックスなし)\n",
        "print(type(f'{state:084b}')) #文字列です\n",
        "print(len(f'{state:084b}')) # bit数の確認\n",
        "# 1bit取り出す\n",
        "print(f'{state:084b}'[0])\n",
        "# 複数のbitを取り出す\n",
        "print(f'{state:084b}'[1+1+1:1+1+1+6])\n",
        "# 1bit書き換え\n",
        "print(\"変更前 : \" + f'{state:084b}')\n",
        "state = int(f'{state:084b}'[:1] + '1' + f'{state:084b}'[2:], 2)\n",
        "print(\"変更後 : \" + f'{state:084b}')\n",
        "# 複数のbitを書き換え\n",
        "print(\"変更前 : \" + f'{state:084b}')\n",
        "state = int(f'{state:084b}'[:2] + '1' + f'{state:084b}'[3:72] + '111111000000', 2)\n",
        "print(\"変更後 : \" + f'{state:084b}')\n",
        "\n",
        "# バラす\n",
        "is_first = f'{state:084b}'[0]\n",
        "is_choise = f'{state:084b}'[1]\n",
        "is_choise_board = f'{state:084b}'[2]\n",
        "choise_piece_type = f'{state:084b}'[3:3+6]\n",
        "choise_piece = f'{state:084b}'[9:9+9]\n",
        "board = f'{state:084b}'[18:18+54]\n",
        "hand = f'{state:084b}'[72:72+12]\n",
        "print(\"バラす  : \" + is_first + is_choise + is_choise_board + choise_piece_type + choise_piece + board + hand)"
      ],
      "execution_count": 2,
      "outputs": [
        {
          "output_type": "stream",
          "text": [
            "10899258735951288572315648\n",
            "100100000100000000100000000000000000000000000000000000000000000000000000100000000000\n",
            "<class 'str'>\n",
            "84\n",
            "1\n",
            "100000\n",
            "変更前 : 100100000100000000100000000000000000000000000000000000000000000000000000100000000000\n",
            "変更後 : 110100000100000000100000000000000000000000000000000000000000000000000000100000000000\n",
            "変更前 : 110100000100000000100000000000000000000000000000000000000000000000000000100000000000\n",
            "変更後 : 111100000100000000100000000000000000000000000000000000000000000000000000111111000000\n",
            "バラす  : 111100000100000000100000000000000000000000000000000000000000000000000000111111000000\n"
          ],
          "name": "stdout"
        }
      ]
    },
    {
      "cell_type": "markdown",
      "metadata": {
        "id": "HFVyW3uiFlRs"
      },
      "source": [
        "## actionを定義"
      ]
    },
    {
      "cell_type": "markdown",
      "metadata": {
        "id": "yotqBGVWFlR-"
      },
      "source": [
        "set_action, choise_actionともに、行動する駒を表す。\n",
        "\n",
        "必要な情報を16bitで表す。  \n",
        "action = 0b_0_000000_000000000\n",
        "\n",
        "\n",
        "| 区分 | is_choise_board | choise_piece_type | choise_place |\n",
        "| ---- | ---- | ---- | ---- | \n",
        "| bit数 | 1bit | 6bit | 9bit | \n",
        "| 例 | 1 | 100000 | 100000000 | \n",
        "| 説明 | 行動する駒は盤か手か | 行動する駒の種類[rl,rm,rs,bl,bm,bs] | 行動する駒のマス[0,1,2,3,4,5,6,7,8] | \n"
      ]
    },
    {
      "cell_type": "code",
      "metadata": {
        "colab": {
          "base_uri": "https://localhost:8080/"
        },
        "id": "BcEqfO5keTdY",
        "outputId": "890f5282-fe0c-48a7-946c-8dcdf0465744"
      },
      "source": [
        "# 確認\n",
        "action = 0b_1_100000_100000000\n",
        "print(action) # 10進数\n",
        "print(f'{action:016b}')#bin(プレフィックスなし)\n",
        "print(type(f'{action:016b}')) #文字列です\n",
        "print(len(f'{action:016b}')) # bit数の確認\n",
        "# 1bit取り出す\n",
        "print(f'{action:016b}'[0])\n",
        "# 複数のbitを取り出す\n",
        "print(f'{action:016b}'[1:1+6])\n",
        "# 書き換え\n",
        "print(\"変更前 : \" + f'{action:016b}')\n",
        "action = int(f'{action:016b}'[:1] + '000001' + '000000010', 2)\n",
        "print(\"変更後 : \" + f'{action:016b}')\n",
        "\n",
        "\n",
        "# バラす\n",
        "is_choise_board = f'{action:016b}'[0]\n",
        "choise_piece_type = f'{action:016b}'[1:1+6]\n",
        "choise_piece = f'{action:016b}'[7:7+9]\n",
        "print(\"バラす  : \" + is_choise_board + choise_piece_type + choise_piece)"
      ],
      "execution_count": 3,
      "outputs": [
        {
          "output_type": "stream",
          "text": [
            "49408\n",
            "1100000100000000\n",
            "<class 'str'>\n",
            "16\n",
            "1\n",
            "100000\n",
            "変更前 : 1100000100000000\n",
            "変更後 : 1000001000000010\n",
            "バラす  : 1000001000000010\n"
          ],
          "name": "stdout"
        }
      ]
    },
    {
      "cell_type": "markdown",
      "metadata": {
        "id": "xVHsMZm2EfVR"
      },
      "source": [
        "## stateからその合法手一覧であるactionsを作成する関数"
      ]
    },
    {
      "cell_type": "markdown",
      "metadata": {
        "id": "sAbSoXNdHYXN"
      },
      "source": [
        "合法手をすべて列挙する... actions = [action1, action2, …]  \n",
        "leagal_actions(state) -> actions: を作成\n",
        "```\n",
        "def leagal_actions(state) -> actions:\n",
        "  actions = []\n",
        "  もし stateがchoise_stateなら、\n",
        "    actions = leagal_actions_from_choise_state(choise_state)\n",
        "  そうでなく stateがset_stateなら、\n",
        "    actions = leagal_actions_from_set_state(set_state)\n",
        "  return actions\n",
        "```\n",
        "stateごとに内部関数を作成。  \n",
        "- choise_stateから合法手を作成 : leagal_actions_from_choise_state(choise_state)\n",
        "- set_stateから合法手を作成 : leagal_actions_from_set_state(set_state)"
      ]
    },
    {
      "cell_type": "markdown",
      "metadata": {
        "id": "gRev157cMTRB"
      },
      "source": [
        "### choise_stateから合法手を作成"
      ]
    },
    {
      "cell_type": "markdown",
      "metadata": {
        "id": "ZktSvEogMHco"
      },
      "source": [
        "  \n",
        "leagal_actions_from_choise_state(choise_state) -> set_actions:  \n",
        "setする駒と場所一覧... set_actions を作成する  \n",
        "setできる駒と場所とは....\n",
        "- handは行動できない。あくまで選んだ駒を盤面に配置するという作業だから。\n",
        "- choiseしている駒と同じ駒しか行動できない。例: rlを選んだならrlしか行動できない。\n",
        "- choiseした駒以上の大きさの駒があるマスには行動できない。\n",
        "- choiseした駒が盤面なら、\n",
        "    - choiseした駒があったマスには行動できない。"
      ]
    },
    {
      "cell_type": "code",
      "metadata": {
        "id": "tdDnn4FOLIMx"
      },
      "source": [
        "def leagal_actions_from_choise_state(choise_state):\n",
        "  is_choise_board = f'{choise_state:084b}'[2]\n",
        "  choise_piece_type = f'{choise_state:084b}'[3:3+6]\n",
        "  choise_piece = f'{choise_state:084b}'[9:9+9]\n",
        "  board = f'{choise_state:084b}'[18:18+54]\n",
        "\n",
        "  # set_actions_bitを作成\n",
        "  set_actions_bit = f'{0:054b}' # 54bit。すべての駒と位置が行動不能で初期化\n",
        "  # choiseしている駒と同じ駒は行動できる。\n",
        "  cpy_f = choise_piece_type.find('1')\n",
        "  set_actions_bit = set_actions_bit[:9*cpy_f] + '111111111' + set_actions_bit[9*(cpy_f+1):]\n",
        "  # choiseしている駒がboardの駒なら、そのマスに行動出来ない\n",
        "  if is_choise_board == '1': \n",
        "    cp_f = choise_piece.find('1')\n",
        "    set_actions_bit = set_actions_bit[:9*cpy_f+cp_f] + '0' + set_actions_bit[9*cpy_f+cp_f+1:]\n",
        "  # choiseした駒以上の大きさの駒があるマスには行動できない。\n",
        "  for mass in range(9):\n",
        "    if board[mass] == '1' or board[mass+27] == \"1\": # L駒があるか\n",
        "      set_actions_bit = set_actions_bit[:9*cpy_f+mass] + '0' + set_actions_bit[9*cpy_f+mass+1:]\n",
        "    if cpy_f in [1, 2, 4, 5]: #選択してあるこまがM, Sなら\n",
        "      if board[mass+9] == '1' or board[mass+27+9] == \"1\": # M駒があるか\n",
        "        set_actions_bit = set_actions_bit[:9*cpy_f+mass] + '0' + set_actions_bit[9*cpy_f+mass+1:]\n",
        "    if cpy_f in [2, 5]: #選択してあるこまがSなら\n",
        "      if board[mass+18] == '1' or board[mass+27+18] == \"1\": # S駒があるか\n",
        "        set_actions_bit = set_actions_bit[:9*cpy_f+mass] + '0' + set_actions_bit[9*cpy_f+mass+1:]\n",
        "\n",
        "  # actions_bitをactionsに変換\n",
        "  set_actions = []\n",
        "  for i, bit in enumerate(set_actions_bit):\n",
        "    if bit == '1':\n",
        "      set_action = int('0b_1_000000_000000000', 2)\n",
        "      set_action = int(f'{set_action:016b}'[:1+(i//9)] + '1' + f'{set_action:016b}'[1+(i//9)+1:], 2) # 駒の種類の反映\n",
        "      set_action = int(f'{set_action:016b}'[:1+6+(i%9)] + '1' + f'{set_action:016b}'[1+6+(i%9)+1:], 2) # 駒の位置の反映\n",
        "      set_actions.append(set_action)\n",
        "\n",
        "  return set_actions"
      ],
      "execution_count": 97,
      "outputs": []
    },
    {
      "cell_type": "code",
      "metadata": {
        "colab": {
          "base_uri": "https://localhost:8080/"
        },
        "id": "y-lcyofzpfIw",
        "outputId": "bb46a238-d75a-4ae5-8e8e-e5e64b063a94"
      },
      "source": [
        "# 確認\n",
        "\n",
        "# choiseしている駒と同じ駒は行動できる。\n",
        "\n",
        "# 先手, 手駒Lを選択時, 置ける駒はL, その位置は0~8のハズ\n",
        "state = 0b_1_1_0_100000_000000000_000000000_000000000_000000000_000000000_000000000_000000000_011111111111\n",
        "print(\"先手, 手駒Lを選択時, 置ける駒はL, その位置は0~8のハズ\")\n",
        "for action in leagal_actions_from_choise_state(state):\n",
        "  print(f'{action:016b}')\n",
        "# 先手, 手駒Mを選択時, 置ける駒はM, その位置は0~8のハズ\n",
        "state = 0b_1_1_0_010000_000000000_000000000_000000000_000000000_000000000_000000000_000000000_110111111111\n",
        "print(\"先手, 手駒Mを選択時, 置ける駒はM, その位置は0~8のハズ\")\n",
        "for action in leagal_actions_from_choise_state(state):\n",
        "  print(f'{action:016b}')\n",
        "# 後手, 手駒Sを選択時, 置ける駒はS, その位置は0~8のハズ\n",
        "state = 0b_0_1_0_000001_000000000_000000000_000000000_000000000_000000000_000000000_000000000_111111111101\n",
        "print(\"後手, 手駒Sを選択時, 置ける駒はS, その位置は0~8のハズ\")\n",
        "for action in leagal_actions_from_choise_state(state):\n",
        "  print(f'{action:016b}')\n",
        "print()\n",
        "\n",
        "# choiseしている駒がboardの駒なら、そのマスに行動出来ない\n",
        "\n",
        "# 先手, マス0の自駒Lを選択時, 行動位置は1~8のハズ(盤面に他の駒なし)\n",
        "state = 0b_1_1_1_100000_100000000_000000000_000000000_000000000_000000000_000000000_000000000_011111111111\n",
        "print(\"先手, マス0の自駒Lを選択時, 置ける駒はL, その位置は0~8のハズ(盤面に他の駒なし)\")\n",
        "for action in leagal_actions_from_choise_state(state):\n",
        "  print(f'{action:016b}')\n",
        "# 先手, マス3の自駒Sを選択時, 行動位置は0~2, 4~8のハズ(盤面に他の駒なし)\n",
        "state = 0b_1_1_1_001000_000100000_000000000_000000000_000000000_000000000_000000000_000000000_111101111111\n",
        "print(\"先手, マス3の自駒Sを選択時, 置ける駒はS, その位置は0~2, 4~8のハズ(盤面に他の駒なし)\")\n",
        "for action in leagal_actions_from_choise_state(state):\n",
        "  print(f'{action:016b}')\n",
        "print()\n",
        "\n",
        "# choiseした駒以上の大きさの駒があるマスには行動できない。\n",
        "\n",
        "# 先手, 手駒Lを選択時, 盤面には[0, 0, 0, RL, RM, RS, BL, BM, BS], 行動位置は0~2, 4~5, 7~8のハズ\n",
        "state = 0b_1_1_0_100000_100000000_000100000_000010000_000001000_000000100_000000010_000000001_000101010101\n",
        "print(\"先手, 手駒Lを選択時, 盤面には[0, 0, 0, RL, RM, RS, BL, BM, BS], 行動位置は0~2, 4~5, 7~8のハズ\")\n",
        "for action in leagal_actions_from_choise_state(state):\n",
        "  print(f'{action:016b}')\n",
        "# 先手, 手駒Mを選択時, 盤面には[0, 0, 0, RL, RM, RS, BL, BM, BS], 行動位置は0~2, 5, 8のハズ\n",
        "state = 0b_1_1_0_010000_100000000_000100000_000010000_000001000_000000100_000000010_000000001_000101010101\n",
        "print(\"先手, 手駒Mを選択時, 盤面には[0, 0, 0, RL, RM, RS, BL, BM, BS], 行動位置は0~2, 5, 8のハズ\")\n",
        "for action in leagal_actions_from_choise_state(state):\n",
        "  print(f'{action:016b}')\n",
        "# 後手, 手駒Sを選択時, 盤面には[0, 0, 0, RL, RM, RS, BL, BM, BS], 行動位置は0~2のハズ\n",
        "state = 0b_1_1_0_000001_100000000_000100000_000010000_000001000_000000100_000000010_000000001_000101010101\n",
        "print(\"後手, 手駒Sを選択時, 盤面には[0, 0, 0, RL, RM, RS, BL, BM, BS], 行動位置は0~2のハズ\")\n",
        "for action in leagal_actions_from_choise_state(state):\n",
        "  print(f'{action:016b}')"
      ],
      "execution_count": 113,
      "outputs": [
        {
          "output_type": "stream",
          "text": [
            "先手, 手駒Lを選択時, 置ける駒はL, その位置は0~8のハズ\n",
            "1100000100000000\n",
            "1100000010000000\n",
            "1100000001000000\n",
            "1100000000100000\n",
            "1100000000010000\n",
            "1100000000001000\n",
            "1100000000000100\n",
            "1100000000000010\n",
            "1100000000000001\n",
            "先手, 手駒Mを選択時, 置ける駒はM, その位置は0~8のハズ\n",
            "1010000100000000\n",
            "1010000010000000\n",
            "1010000001000000\n",
            "1010000000100000\n",
            "1010000000010000\n",
            "1010000000001000\n",
            "1010000000000100\n",
            "1010000000000010\n",
            "1010000000000001\n",
            "後手, 手駒Sを選択時, 置ける駒はS, その位置は0~8のハズ\n",
            "1000001100000000\n",
            "1000001010000000\n",
            "1000001001000000\n",
            "1000001000100000\n",
            "1000001000010000\n",
            "1000001000001000\n",
            "1000001000000100\n",
            "1000001000000010\n",
            "1000001000000001\n",
            "\n",
            "先手, マス0の自駒Lを選択時, 置ける駒はL, その位置は0~8のハズ(盤面に他の駒なし)\n",
            "1100000010000000\n",
            "1100000001000000\n",
            "1100000000100000\n",
            "1100000000010000\n",
            "1100000000001000\n",
            "1100000000000100\n",
            "1100000000000010\n",
            "1100000000000001\n",
            "先手, マス3の自駒Sを選択時, 置ける駒はS, その位置は0~2, 4~8のハズ(盤面に他の駒なし)\n",
            "1001000100000000\n",
            "1001000010000000\n",
            "1001000001000000\n",
            "1001000000010000\n",
            "1001000000001000\n",
            "1001000000000100\n",
            "1001000000000010\n",
            "1001000000000001\n",
            "\n",
            "先手, 手駒Lを選択時, 盤面には[0, 0, 0, RL, RM, RS, BL, BM, BS], 行動位置は0~2, 4~5, 7~8のハズ\n",
            "1100000100000000\n",
            "1100000010000000\n",
            "1100000001000000\n",
            "1100000000010000\n",
            "1100000000001000\n",
            "1100000000000010\n",
            "1100000000000001\n",
            "先手, 手駒Mを選択時, 盤面には[0, 0, 0, RL, RM, RS, BL, BM, BS], 行動位置は0~2, 5, 8のハズ\n",
            "1010000100000000\n",
            "1010000010000000\n",
            "1010000001000000\n",
            "1010000000001000\n",
            "1010000000000001\n",
            "後手, 手駒Sを選択時, 盤面には[0, 0, 0, RL, RM, RS, BL, BM, BS], 行動位置は0~2のハズ\n",
            "1000001100000000\n",
            "1000001010000000\n",
            "1000001001000000\n"
          ],
          "name": "stdout"
        }
      ]
    },
    {
      "cell_type": "markdown",
      "metadata": {
        "id": "tkcWK-JrZ558"
      },
      "source": [
        "### set_stateから合法手を作成"
      ]
    },
    {
      "cell_type": "markdown",
      "metadata": {
        "id": "Pk0TZvxTZ559"
      },
      "source": [
        "leagal_actions_from_set_state(set_state) -> choise_actions:  \n",
        "choiseできる駒の一覧... choise_actions を作成する  \n",
        "choiseできる駒とは....  \n",
        "- 自分の駒しか行動できない\n",
        "\n",
        "手駒なら,\n",
        "- 手駒に動かしたい駒が１つもなければ、その駒は行動できない。\n",
        "- 動かしたい駒以上の大きさの駒が配置されているマスには行動できない。\n",
        "\n",
        "盤上の駒なら、\n",
        "- 盤上の一番表面にある駒しか行動できない。  ※後述するsurface_boardを使用\n",
        "- 動かしたい駒以上の大きさの駒があるマスには行動できない。"
      ]
    },
    {
      "cell_type": "markdown",
      "metadata": {
        "id": "iZAysk9lMfDU"
      },
      "source": [
        "### 合法手をすべて列挙する"
      ]
    },
    {
      "cell_type": "code",
      "metadata": {
        "id": "8PASc-uXIIEc"
      },
      "source": [
        "def legal_actions(state):\n",
        "  actions = []\n",
        "  print(f'{state:b}'.ljust(84, '0'))\n",
        "  # print(\"is_choise is {}\".format(int(bin(state)[2])))\n",
        "  if int(f'{state:b}'.ljust(84, '0')[1]) == '1':\n",
        "    print(\"if\")\n",
        "    # actions = leagal_actions_from_choise_state(choise_state)\n",
        "    pass;\n",
        "  else:\n",
        "    # actions = leagal_actions_from_set_state(set_state)\n",
        "    pass;\n",
        "  return actions"
      ],
      "execution_count": 120,
      "outputs": []
    },
    {
      "cell_type": "code",
      "metadata": {
        "colab": {
          "base_uri": "https://localhost:8080/"
        },
        "id": "pJ2C72CHJ3wz",
        "outputId": "0418d6fb-f2dc-429d-cf16-ab6181a68830"
      },
      "source": [
        "# 確認\n",
        "state = 0b_0_1_0_000000_000000000_000000000000000000000000000000000000000000000000000000_000000000000\n",
        "print(f'{state:b}'.ljust(84, '0'))\n",
        "legal_actions(state)"
      ],
      "execution_count": 124,
      "outputs": [
        {
          "output_type": "stream",
          "text": [
            "100000000000000000000000000000000000000000000000000000000000000000000000000000000000\n",
            "100000000000000000000000000000000000000000000000000000000000000000000000000000000000\n"
          ],
          "name": "stdout"
        },
        {
          "output_type": "execute_result",
          "data": {
            "text/plain": [
              "[]"
            ]
          },
          "metadata": {
            "tags": []
          },
          "execution_count": 124
        }
      ]
    },
    {
      "cell_type": "code",
      "metadata": {
        "id": "CFc4bv44J7OL"
      },
      "source": [
        ""
      ],
      "execution_count": null,
      "outputs": []
    }
  ]
}