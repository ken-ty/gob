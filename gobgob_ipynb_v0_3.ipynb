{
  "nbformat": 4,
  "nbformat_minor": 0,
  "metadata": {
    "colab": {
      "name": "gobgob.ipynb_v0.3",
      "provenance": [],
      "collapsed_sections": [
        "31eba2OHO-bO",
        "Y6LQ9vnhPGcu",
        "065WrSDzPa0s",
        "XZHOLwcyPnzR",
        "Bgo7zvzAPqpu",
        "Sxw6gVX3P-yI"
      ],
      "authorship_tag": "ABX9TyMG/LBz6oiuVVb3pcqQE/3R",
      "include_colab_link": true
    },
    "kernelspec": {
      "name": "python3",
      "display_name": "Python 3"
    }
  },
  "cells": [
    {
      "cell_type": "markdown",
      "metadata": {
        "id": "view-in-github",
        "colab_type": "text"
      },
      "source": [
        "<a href=\"https://colab.research.google.com/github/kentokura/gob/blob/main/gobgob_ipynb_v0_3.ipynb\" target=\"_parent\"><img src=\"https://colab.research.google.com/assets/colab-badge.svg\" alt=\"Open In Colab\"/></a>"
      ]
    },
    {
      "cell_type": "markdown",
      "metadata": {
        "id": "UyIz-dUNN1_l"
      },
      "source": [
        "# Pythonでごぶの探索\n",
        "設計図: https://docs.google.com/presentation/d/1wmV3fb-fx1qQahOk2ZkiEcQjAm2EgGZrNFMwcBmwSnc/edit?usp=sharing\n",
        "\n"
      ]
    },
    {
      "cell_type": "markdown",
      "metadata": {
        "id": "QNXWjicKOdgd"
      },
      "source": [
        "## Stateに必要な関数群"
      ]
    },
    {
      "cell_type": "markdown",
      "metadata": {
        "id": "31eba2OHO-bO"
      },
      "source": [
        "### stateの引数 <==> id"
      ]
    },
    {
      "cell_type": "code",
      "metadata": {
        "id": "GaWcH-qMOsoO"
      },
      "source": [
        "from typing import List\n",
        "import itertools\n",
        "\n",
        "# idは134bitの文字列\n",
        "# stateの引数からidを作成\n",
        "def create_id(is_first: bool, is_choise: bool ,choise_board: List[List[bool]],\n",
        "              choise_hand: List[bool] ,board: List[List[bool]], hand: List[bool]):\n",
        "  big_list = [int(is_first)] + [int(is_choise)] \\\n",
        "          + list(itertools.chain.from_iterable(choise_board)) + choise_hand \\\n",
        "          + list(itertools.chain.from_iterable(board)) + hand;\n",
        "  id = \"\".join(map(str, big_list))\n",
        "  return id;\n",
        "\n",
        "# idからstateの引数を作成\n",
        "def id2is_first(id: str):\n",
        "  return id[0];\n",
        "def id2is_choise(id: str):\n",
        "  return id[1];\n",
        "def id2choise_board(id: str):\n",
        "  choise_board = [[0,0,0,0,0,0,0,0,0],[0,0,0,0,0,0,0,0,0],[0,0,0,0,0,0,0,0,0],\n",
        "                  [0,0,0,0,0,0,0,0,0],[0,0,0,0,0,0,0,0,0],[0,0,0,0,0,0,0,0,0]]\n",
        "  for i, str_bit in enumerate(id[2:2+54]):\n",
        "      choise_board[i//9][i%9] = int(str_bit)\n",
        "  return choise_board;\n",
        "def id2choise_hand(id: str):\n",
        "  choise_hand = [0,0,0,0,0,0,0,0,0,0,0,0]\n",
        "  for i, str_bit in enumerate(id[56:56+12]):\n",
        "      choise_hand[i] = int(str_bit)\n",
        "  return choise_hand;\n",
        "def id2board(id: str):\n",
        "  board = [[0,0,0,0,0,0,0,0,0],[0,0,0,0,0,0,0,0,0],[0,0,0,0,0,0,0,0,0],\n",
        "           [0,0,0,0,0,0,0,0,0],[0,0,0,0,0,0,0,0,0],[0,0,0,0,0,0,0,0,0]]\n",
        "  for i, str_bit in enumerate(id[68:68+54]):\n",
        "      board[i//9][i%9] = int(str_bit)\n",
        "  return board;\n",
        "def id2hand(id: str):\n",
        "  hand = [0,0,0,0,0,0,0,0,0,0,0,0]\n",
        "  for i, str_bit in enumerate(id[122:122+12]):\n",
        "      hand[i] = int(str_bit)\n",
        "  return hand;"
      ],
      "execution_count": 1,
      "outputs": []
    },
    {
      "cell_type": "markdown",
      "metadata": {
        "id": "Y6LQ9vnhPGcu"
      },
      "source": [
        "### 正規化"
      ]
    },
    {
      "cell_type": "code",
      "metadata": {
        "id": "aEwsiO5oPZYJ"
      },
      "source": [
        "# 正規化\n",
        "def create_normalization_board(board):\n",
        "  board = board # 候補\n",
        "  # 変換表を一つずつためし、cand_boardと比較して小さい方を残す\n",
        "  convert_tables = [[6,3,0,7,4,1,8,5,2],[8,7,6,5,4,3,2,1,0],[2,5,8,1,4,7,0,3,6],\n",
        "  [2,1,0,5,4,3,8,7,6],[6,7,8,3,4,5,0,1,2],[0,3,6,1,4,7,2,5,8],[8,5,2,7,4,1,6,3,0]]\n",
        "  for convert_table in convert_tables:\n",
        "    cand_board = [\n",
        "                  [0,0,0,0,0,0,0,0,0],[0,0,0,0,0,0,0,0,0],[0,0,0,0,0,0,0,0,0],\n",
        "                  [0,0,0,0,0,0,0,0,0],[0,0,0,0,0,0,0,0,0],[0,0,0,0,0,0,0,0,0]];\n",
        "    for i in range(6):\n",
        "      for j, num in enumerate(convert_table):\n",
        "        cand_board[i][j] = board[i][num]\n",
        "    # cand_pieces と temp_cand_pieces を比較\n",
        "    if board > cand_board:\n",
        "      board = cand_board\n",
        "  return board\n",
        "def create_normalization_hand(hand):\n",
        "  hand = hand # 候補\n",
        "  # \"1,0\" を \"0,1\"にするだけ。\n",
        "  for i in range(6):\n",
        "    if hand[2*i] == 1 and hand[2*i+1] == 0:\n",
        "      hand[2*i] = 0\n",
        "      hand[2*i+1] = 1\n",
        "  return hand"
      ],
      "execution_count": 2,
      "outputs": []
    },
    {
      "cell_type": "markdown",
      "metadata": {
        "id": "065WrSDzPa0s"
      },
      "source": [
        "### 合法手\n"
      ]
    },
    {
      "cell_type": "code",
      "metadata": {
        "id": "rzK2fXTtPuK3"
      },
      "source": [
        "# 合法手の作成\n",
        "import copy\n",
        "\n",
        "def create_legal_actions(is_first, is_choise, choise_board, choise_hand, board, hand):\n",
        "  if is_choise == True: # stateはchoise、ここではchoiseした駒を置く行動を絞り込む\n",
        "    # 1. 一旦すべての行動を禁止する。\n",
        "    actions = [\n",
        "               [[0,0,0,0,0,0,0,0,0],[0,0,0,0,0,0,0,0,0],[0,0,0,0,0,0,0,0,0],\n",
        "                [0,0,0,0,0,0,0,0,0],[0,0,0,0,0,0,0,0,0],[0,0,0,0,0,0,0,0,0]],\n",
        "               [0,0,0,0,0,0,0,0,0,0,0,0]]\n",
        "    choise_piece_size = 0 # 0~5\n",
        "    # 2. choiseした駒が手駒なら、\n",
        "    if choise_hand != [0,0,0,0,0,0,0,0,0,0,0,0]:\n",
        "      # 2-1. 選択した駒と同じtypeすべての盤面の行動を許可する\n",
        "      for i, piece in enumerate(choise_hand):\n",
        "        if piece == 1:\n",
        "          choise_piece_size = i//2 # 0~11 -> 0~5\n",
        "          actions[0][choise_piece_size] = [1,1,1,1,1,1,1,1,1]\n",
        "        break;\n",
        "    # 3. choiseした駒が盤面の駒なら、\n",
        "    else:\n",
        "      # 3-1. 選択した駒と同じtypeすべての盤面の行動を許可する\n",
        "      for i in range(6):\n",
        "        if choise_board[i] != [0,0,0,0,0,0,0,0,0]:\n",
        "          choise_piece_size = i\n",
        "          actions[0][choise_piece_size] = [1,1,1,1,1,1,1,1,1]\n",
        "          break;\n",
        "      # 3-2. 選択した駒がもとあった位置の盤面の行動を禁止する\n",
        "      for place, is_exist in enumerate(choise_board[choise_piece_size]):\n",
        "        if is_exist == 1: \n",
        "          actions[0][choise_piece_size][place] = 0\n",
        "          break;\n",
        "\t    # 3-3. 選択した駒と同じ大きさ以上の駒が盤面にあるなら、\n",
        "      # if board[選択した駒と同じ大きさ以上のtype][place] == 1:\n",
        "\n",
        "        #   actions[0][type][place] = 0\n",
        "      check_piece_sizes = [[0,3], [0,1,3,4], [0,1,2,3,4,5]]\n",
        "      for check_piece_size in check_piece_sizes[(choise_piece_size) % 3]:\n",
        "        for place, is_exist in enumerate(board[check_piece_size]): \n",
        "          if is_exist == 1: \n",
        "            #   3-3-1.その場所にはおけない\n",
        "            actions[0][choise_piece_size][place] = 0\n",
        "\n",
        "  else: # is_choise == False: # stateはput、ここではchoiseする駒を選べる行動を絞り込む\n",
        "    # 1. 配置されている駒はすべて許可する\n",
        "    actions = [copy.deepcopy(board), copy.deepcopy(hand)]\n",
        "    # 2. 現在の手番プレイヤーの駒の行動を禁止する(手番が交代するから)\n",
        "    if is_first == 1: # 先手の駒を行動不可にする\n",
        "      for i in [0,1,2]:\n",
        "        actions[0][i] = [0,0,0,0,0,0,0,0,0] # \t2-1. ボードの行動の禁止\n",
        "      for i in [0,1,2,3,4,5]: # \t2-2. 手駒の行動の禁止\n",
        "        actions[1][i] = 0\n",
        "    else: # 後手の駒を行動不可にする\n",
        "      for i in [3,4,5]:\n",
        "        actions[0][i] = [0,0,0,0,0,0,0,0,0] # \t2-1. ボードの行動の禁止\n",
        "      for i in [6,7,8,9,10,11]: # \t2-2. 手駒の行動の禁止\n",
        "        actions[1][i] = 0\n",
        "    # 3. ボード上の駒を調べ、LがあるplaceのM,Sを行動不可, MがあるplaceのSを行動不可にする。\n",
        "    piece_sizes = {\"M, S\": [1,2,4,5],\"S\": [2,5]}\n",
        "    for place in range(9):\n",
        "      # 3-1. ボードにL駒が配置されているなら\n",
        "      if board[0][place] == 1 or board[3][place] == 1:\n",
        "        # 3-1-1. 同じ場所のM,Sの行動を禁止する\n",
        "        for piece_size in piece_sizes[\"M, S\"]:\n",
        "          actions[0][piece_size][place] = 0\n",
        "      # 3.2 ボードにM駒が配置されているなら\n",
        "      elif board[1][place] == 1 or board[4][place] == 1:\n",
        "        # 3-2-1. 同じ場所のSの行動を禁止する\n",
        "        for piece_size in piece_sizes[\"S\"]:\n",
        "          actions[0][piece_size][place] = 0\n",
        "  return actions"
      ],
      "execution_count": 3,
      "outputs": []
    },
    {
      "cell_type": "markdown",
      "metadata": {
        "id": "XZHOLwcyPnzR"
      },
      "source": [
        "### 次の状態"
      ]
    },
    {
      "cell_type": "code",
      "metadata": {
        "id": "s535SCBrPulq"
      },
      "source": [
        "# 次の状態の作成\n",
        "def create_next_states(is_first, is_choise, choise_board, choise_hand, board, hand, actions):\n",
        "  next_states = []\n",
        "  next_is_choise = int(not is_choise)\n",
        "  next_is_first = int(not is_first) if next_is_choise == 1 else is_first # 次がchoiseなら反転\n",
        "  # 現在is_choise== 1 なら、actionにはchoiseした駒をおける場所が入っている。\n",
        "  # action[1]にビットが立っていることはない.\n",
        "  # action[0][type][place]== 1のとき、 board[type][place] = 1にする。\n",
        "  if is_choise == 1: # 手番を継続, 次はセット, actionをboard, handに反映する\n",
        "\n",
        "    # print(\"create_next_states : setなステートを作成する\")\n",
        "\n",
        "    next_choise_board = [[0,0,0,0,0,0,0,0,0],[0,0,0,0,0,0,0,0,0],[0,0,0,0,0,0,0,0,0],\n",
        "                          [0,0,0,0,0,0,0,0,0],[0,0,0,0,0,0,0,0,0],[0,0,0,0,0,0,0,0,0]];\n",
        "    next_choise_hand = [0,0,0,0,0,0,0,0,0,0,0,0]\n",
        "    for piece_type_num, piece_type in enumerate(actions[0]):\n",
        "      for place_num, place in enumerate(piece_type):\n",
        "        # print(\"place_num = {}, place = {}\".format(place_num, place))\n",
        "        if place == 1: # 行動可能ならその箇所を1にする\n",
        "          next_board = copy.deepcopy(board)\n",
        "          next_board[piece_type_num][place_num] = 1\n",
        "          state = State(next_is_first, next_is_choise,\n",
        "                  next_choise_board, next_choise_hand,\n",
        "                  next_board, copy.deepcopy(hand))\n",
        "          next_states.append(state)\n",
        "  # 現在is_choise== 0 なら、actionにはchoiseできる駒の位置が入っている。\n",
        "  # action[0][place]== 1のとき、 hand[place] = 0、choise_hand[place] = 1にする。\n",
        "  # action[0][type][place]== 1のとき、 board[type][place] = 0、choise_board[place] = 1にする。\n",
        "  else: # is_choise == 0: # 手番を交代、次はチョイス, actionをchise_board, chise_handに反映する\n",
        "\n",
        "    print(\"create_next_states : choiseなステートを作成する\")\n",
        "    \n",
        "    # 盤面からchoiseする\n",
        "    for piece_type_num, piece_type in enumerate(actions[0]):\n",
        "      for place_num, place in enumerate(piece_type):\n",
        "        if place == 1: # 行動可能ならその箇所のchoise_boardを1にして、その箇所のboardを0にする\n",
        "          next_choise_board = [[0,0,0,0,0,0,0,0,0],[0,0,0,0,0,0,0,0,0],[0,0,0,0,0,0,0,0,0],\n",
        "                                [0,0,0,0,0,0,0,0,0],[0,0,0,0,0,0,0,0,0],[0,0,0,0,0,0,0,0,0]];\n",
        "          next_board = copy.deepcopy(board)\n",
        "          next_choise_board[piece_type_num][place_num] = 1\n",
        "          next_board[piece_type_num][place_num] = 0\n",
        "          state = State(next_is_first, next_is_choise,\n",
        "                  next_choise_board, [0,0,0,0,0,0,0,0,0,0,0,0],\n",
        "                  next_board, hand)\n",
        "          next_states.append(state)\n",
        "    # ハンドからchoiseする\n",
        "    for place_num, place in enumerate(actions[1]):\n",
        "      if place == 1: # 行動可能ならその箇所のchoise_handを1にして、その箇所のhandを0にする\n",
        "        next_choise_hand = [0,0,0,0,0,0,0,0,0,0,0,0]\n",
        "        next_hand = copy.deepcopy(hand)\n",
        "        next_choise_hand[place_num] = 1\n",
        "        next_hand[place_num] = 0\n",
        "        state = State(next_is_first, next_is_choise,\n",
        "                [[0,0,0,0,0,0,0,0,0],[0,0,0,0,0,0,0,0,0],[0,0,0,0,0,0,0,0,0],\n",
        "                  [0,0,0,0,0,0,0,0,0],[0,0,0,0,0,0,0,0,0],[0,0,0,0,0,0,0,0,0]],\n",
        "                next_choise_hand, board, next_hand)\n",
        "        next_states.append(state)    \n",
        "  return next_states"
      ],
      "execution_count": 4,
      "outputs": []
    },
    {
      "cell_type": "markdown",
      "metadata": {
        "id": "Bgo7zvzAPqpu"
      },
      "source": [
        "### 結果"
      ]
    },
    {
      "cell_type": "code",
      "metadata": {
        "id": "h_zlLSrgPvFu"
      },
      "source": [
        "# 勝敗の有無\n",
        "def is_win(single_surface):\n",
        "  s = single_surface\n",
        "  # 横, 縦, 左斜め, 右斜めのラインを調べる\n",
        "  check_lines = [[0,1,2], [3,4,5], [6,7,8], [0,3,6], [1,4,7], [2,5,8], [0,4,8], [2,4,6]]\n",
        "  for check_line in check_lines:\n",
        "    if s[check_line[0]] and s[check_line[1]] and s[check_line[2]]:\n",
        "      return True;\n",
        "  return False;\n",
        "# 表面の駒だけbitが立つboardを作成する\n",
        "def create_surface(board):\n",
        "  board_surface = [[0,0,0,0,0,0,0,0,0],[0,0,0,0,0,0,0,0,0],[0,0,0,0,0,0,0,0,0],\n",
        "                   [0,0,0,0,0,0,0,0,0],[0,0,0,0,0,0,0,0,0],[0,0,0,0,0,0,0,0,0]];\n",
        "  # S駒を反映させる\n",
        "  board_surface[2] = board[2]\n",
        "  board_surface[5] = board[5]\n",
        "  # このとき、おいた場所により小さい駒があったら、その駒を0にする\n",
        "  # １マスずつ見ていく\n",
        "  for place in range(9):\n",
        "    # M駒を反映させる\n",
        "    if board[1][place] == 1 or board[4][place] == 1:\n",
        "      if board[1][place] == 1:\n",
        "        board_surface[1][place] = 1\n",
        "      if board[4][place] == 1:\n",
        "        board_surface[4][place] = 1\n",
        "      board_surface[2][place] = 0 # S駒を0にする\n",
        "      board_surface[5][place] = 0\n",
        "    # L駒を反映させる\n",
        "    if board[0][place] == 1 or board[3][place] == 1:\n",
        "      if board[0][place] == 1:\n",
        "        board_surface[0][place] = 1\n",
        "      if board[3][place] == 1:\n",
        "        board_surface[3][place] = 1\n",
        "      board_surface[1][place] = 0 # M駒を0にする\n",
        "      board_surface[4][place] = 0\t\n",
        "      board_surface[2][place] = 0 # S駒を0にする\n",
        "      board_surface[5][place] = 0\n",
        "  return board_surface\n",
        "\n",
        "#勝敗の有無、勝者を確認する\n",
        "def check_result(board):\n",
        "  board_surface = create_surface(board)\n",
        "  is_done = 0 # 決着がついているなら1を返す\n",
        "  winner = 0 # 先手は0, 後手は1\n",
        "  # 内部でboard_surface[0,1,2]とboard_surface[3,4,5]を合成\n",
        "  single_surfaces = [[0,0,0,0,0,0,0,0,0],[0,0,0,0,0,0,0,0,0]];\n",
        "  for i in range(9):\n",
        "    if board_surface[0][i] == 1 or board_surface[1][i] == 1 or board_surface[2][i] == 1:\n",
        "      single_surfaces[0][i] = 1\n",
        "    elif board_surface[3][i] == 1 or board_surface[4][i] == 1 or board_surface[5][i] == 1:\n",
        "      single_surfaces[1][i] = 1\n",
        "  is_done = is_win(single_surfaces[0]) == 1 or is_win(single_surfaces[1]) == 1\n",
        "  winner = 1 if is_win(single_surfaces[1]) == 1 else 0\n",
        "  return [is_done, winner]"
      ],
      "execution_count": 5,
      "outputs": []
    },
    {
      "cell_type": "markdown",
      "metadata": {
        "id": "Sxw6gVX3P-yI"
      },
      "source": [
        "## Stateクラス"
      ]
    },
    {
      "cell_type": "code",
      "metadata": {
        "id": "lu24QRv_V80t"
      },
      "source": [
        "# stateクラス\n",
        "class State():\n",
        "  def __init__(self, is_first, is_choise, choise_board, choise_hand, board, hand):\n",
        "    self.is_first = is_first\n",
        "    self.is_choise = is_choise\n",
        "    self.choise_board = choise_board\n",
        "    self.choise_hand = choise_hand\n",
        "    self.board = board\n",
        "    self.hand = hand\n",
        "    self.id = create_id(self.is_first, self.is_choise, self.choise_board,\n",
        "        self.choise_hand, self.board, self.hand)\n",
        "    self.normalized_id = create_id(\n",
        "        self.is_first, self.is_choise,\n",
        "        create_normalization_board(self.choise_board), create_normalization_hand(self.choise_hand),\n",
        "        create_normalization_board(self.board), create_normalization_hand(self.hand))\n",
        "    self.legal_actions = create_legal_actions(\n",
        "        self.is_first, self.is_choise, self.choise_board,\n",
        "        self.choise_hand, self.board, self.hand)\n",
        "    self.is_done, self.winner = check_result(self.board)\n",
        "  # 次の状態の作成\n",
        "  def next_states(self):\n",
        "    states = create_next_states(\n",
        "        self.is_first, self.is_choise, self.choise_board,\n",
        "        self.choise_hand, self.board, self.hand, self.legal_actions)\n",
        "    return states"
      ],
      "execution_count": 6,
      "outputs": []
    },
    {
      "cell_type": "markdown",
      "metadata": {
        "id": "s19GbX63QIYh"
      },
      "source": [
        "### Stateクラスのテスト"
      ]
    },
    {
      "cell_type": "code",
      "metadata": {
        "colab": {
          "base_uri": "https://localhost:8080/"
        },
        "id": "6c_LAag2utWO",
        "outputId": "a33ca5dd-ff44-4041-8a06-09cf6356e67c"
      },
      "source": [
        "# テスト\n",
        "\n",
        "# 初期(setステート)\n",
        "is_first = False\n",
        "is_choise = False\n",
        "choise_board = [[0,0,0,0,0,0,0,0,0],[0,0,0,0,0,0,0,0,0],[0,0,0,0,0,0,0,0,0],\n",
        "                                 [0,0,0,0,0,0,0,0,0],[0,0,0,0,0,0,0,0,0],[0,0,0,0,0,0,0,0,0]]\n",
        "choise_hand = [0,0,0,0,0,0,0,0,0,0,0,0]\n",
        "board = [[0,0,0,0,0,0,0,0,0],[0,0,0,0,0,0,0,0,0],[0,0,0,0,0,0,0,0,0],\n",
        "                          [0,0,0,0,0,0,0,0,0],[0,0,0,0,0,0,0,0,0],[0,0,0,0,0,0,0,0,0]]\n",
        "hand = [1,1,1,1,1,1,1,1,1,1,1,1]\n",
        "legal_actions = [\n",
        "  [[0,0,0,0,0,0,0,0,0],[0,0,0,0,0,0,0,0,0],[0,0,0,0,0,0,0,0,0],\n",
        "  [0,0,0,0,0,0,0,0,0],[0,0,0,0,0,0,0,0,0],[0,0,0,0,0,0,0,0,0]],\n",
        "  [1,1,1,1,1,1,0,0,0,0,0,0]]\n",
        "\n",
        "# # 1手目代表(choiseステート)\n",
        "# is_first = True\n",
        "# is_choise = True\n",
        "# choise_board = [[0,0,0,0,0,0,0,0,0],[0,0,0,0,0,0,0,0,0],[0,0,0,0,0,0,0,0,0],\n",
        "#                                  [0,0,0,0,0,0,0,0,0],[0,0,0,0,0,0,0,0,0],[0,0,0,0,0,0,0,0,0]]\n",
        "# choise_hand = [1,0,0,0,0,0,0,0,0,0,0,0]\n",
        "# board = [[0,0,0,0,0,0,0,0,0],[0,0,0,0,0,0,0,0,0],[0,0,0,0,0,0,0,0,0],\n",
        "#                           [0,0,0,0,0,0,0,0,0],[0,0,0,0,0,0,0,0,0],[0,0,0,0,0,0,0,0,0]]\n",
        "# hand = [0,1,1,1,1,1,1,1,1,1,1,1]\n",
        "# legal_actions = [\n",
        "#   [[1,1,1,1,1,1,1,1,1],[0,0,0,0,0,0,0,0,0],[0,0,0,0,0,0,0,0,0],\n",
        "#   [0,0,0,0,0,0,0,0,0],[0,0,0,0,0,0,0,0,0],[0,0,0,0,0,0,0,0,0]],\n",
        "#   [0,0,0,0,0,0,0,0,0,0,0,0]]\n",
        "\n",
        "# # 1手目代表(setステート)\n",
        "# is_first = True\n",
        "# is_choise = False\n",
        "# choise_board = [[1,0,0,0,0,0,0,0,0],[0,0,0,0,0,0,0,0,0],[0,0,0,0,0,0,0,0,0],\n",
        "#                                  [0,0,0,0,0,0,0,0,0],[0,0,0,0,0,0,0,0,0],[0,0,0,0,0,0,0,0,0]]\n",
        "# choise_hand = [0,0,0,0,0,0,0,0,0,0,0,0]\n",
        "# board = [[0,0,0,0,0,0,0,0,0],[0,0,0,0,0,0,0,0,0],[0,0,0,0,0,0,0,0,0],\n",
        "#                           [0,0,0,0,0,0,0,0,0],[0,0,0,0,0,0,0,0,0],[0,0,0,0,0,0,0,0,0]]\n",
        "# hand = [0,1,1,1,1,1,1,1,1,1,1,1]\n",
        "# legal_actions = [\n",
        "#   [[1,0,0,0,0,0,0,0,0],[0,0,0,0,0,0,0,0,0],[0,0,0,0,0,0,0,0,0],\n",
        "#   [0,0,0,0,0,0,0,0,0],[0,0,0,0,0,0,0,0,0],[0,0,0,0,0,0,0,0,0]],\n",
        "#   [0,1,1,1,1,1,1,1,1,1,1,1]]\n",
        "\n",
        "id = create_id(is_first, is_choise,choise_board,choise_hand,board,hand)\n",
        "state = State(is_first, is_choise,choise_board,choise_hand,board,hand)\n",
        "# # idのテスト　\n",
        "# print(\"id = {}\".format(id))\n",
        "# print(\"is_first = {}\".format(id2is_first(id)))\n",
        "# print(\"is_choise = {}\".format(id2is_choise(id)))\n",
        "# print(\"choise_board = {}\".format(id2choise_board(id)))\n",
        "# print(\"choise_hand = {}\".format(id2choise_hand(id)))\n",
        "# print(\"board = {}\".format(id2board(id)))\n",
        "# print(\"hand = {}\".format(id2hand(id)))\n",
        "\n",
        "# stateのテスト　\n",
        "print(\"state = {}\".format(state))\n",
        "print(\"is_first = {}\".format(state.is_first))\n",
        "print(\"is_choise = {}\".format(state.is_choise))\n",
        "print(\"choise_board = {}\".format(state.choise_board))\n",
        "print(\"choise_hand = {}\".format(state.choise_hand))\n",
        "print(\"board = {}\".format(state.board))\n",
        "print(\"hand = {}\".format(state.hand))\n",
        "print(\"legal_actions = {}\".format(state.legal_actions))\n",
        "print(\"next_statesの数 = {}\".format(len(state.next_states())))\n",
        "\n",
        "# 正規化テスト\n",
        "# hand: List[bool] = [1,0,1,0,1,1,0,1,0,1,0,1]\n",
        "# print(\"hand = {}\".format(hand))\n",
        "# print(\"nrm_hand = {}\".format(create_normalization_hand(hand)))\n",
        "\n",
        "# board = [\n",
        "#          [1,0,1,0,1,0,1,0,1],[1,0,0,0,0,0,0,0,0],[0,0,0,0,0,0,0,0,0],\n",
        "#          [0,0,0,0,0,0,0,0,0],[0,0,0,0,0,0,0,0,0],[0,0,0,0,0,0,0,0,0]];\n",
        "# print(\"board = {}\".format(board))\n",
        "# print(\"nrm_board = {}\".format(create_normalization_board(board)))"
      ],
      "execution_count": 7,
      "outputs": [
        {
          "output_type": "stream",
          "text": [
            "state = <__main__.State object at 0x7f993288e470>\n",
            "is_first = False\n",
            "is_choise = False\n",
            "choise_board = [[0, 0, 0, 0, 0, 0, 0, 0, 0], [0, 0, 0, 0, 0, 0, 0, 0, 0], [0, 0, 0, 0, 0, 0, 0, 0, 0], [0, 0, 0, 0, 0, 0, 0, 0, 0], [0, 0, 0, 0, 0, 0, 0, 0, 0], [0, 0, 0, 0, 0, 0, 0, 0, 0]]\n",
            "choise_hand = [0, 0, 0, 0, 0, 0, 0, 0, 0, 0, 0, 0]\n",
            "board = [[0, 0, 0, 0, 0, 0, 0, 0, 0], [0, 0, 0, 0, 0, 0, 0, 0, 0], [0, 0, 0, 0, 0, 0, 0, 0, 0], [0, 0, 0, 0, 0, 0, 0, 0, 0], [0, 0, 0, 0, 0, 0, 0, 0, 0], [0, 0, 0, 0, 0, 0, 0, 0, 0]]\n",
            "hand = [1, 1, 1, 1, 1, 1, 1, 1, 1, 1, 1, 1]\n",
            "legal_actions = [[[0, 0, 0, 0, 0, 0, 0, 0, 0], [0, 0, 0, 0, 0, 0, 0, 0, 0], [0, 0, 0, 0, 0, 0, 0, 0, 0], [0, 0, 0, 0, 0, 0, 0, 0, 0], [0, 0, 0, 0, 0, 0, 0, 0, 0], [0, 0, 0, 0, 0, 0, 0, 0, 0]], [1, 1, 1, 1, 1, 1, 0, 0, 0, 0, 0, 0]]\n",
            "create_next_states : choiseなステートを作成する\n",
            "next_statesの数 = 6\n"
          ],
          "name": "stdout"
        }
      ]
    },
    {
      "cell_type": "code",
      "metadata": {
        "colab": {
          "base_uri": "https://localhost:8080/"
        },
        "id": "4sZpStBeNcI7",
        "outputId": "27e435ad-1d9d-4d82-b331-e5f99dee5f6c"
      },
      "source": [
        "# 初期(setステート)\n",
        "is_first: bool = False\n",
        "is_choise: bool = False\n",
        "choise_board: List[List[bool]] =[[0,0,0,0,0,0,0,0,0],[0,0,0,0,0,0,0,0,0],[0,0,0,0,0,0,0,0,0],\n",
        "                                 [0,0,0,0,0,0,0,0,0],[0,0,0,0,0,0,0,0,0],[0,0,0,0,0,0,0,0,0]]\n",
        "choise_hand: List[bool] = [0,0,0,0,0,0,0,0,0,0,0,0]\n",
        "board: List[List[bool]] =[[0,0,0,0,0,0,0,0,0],[0,0,0,0,0,0,0,0,0],[0,0,0,0,0,0,0,0,0],\n",
        "                          [0,0,0,0,0,0,0,0,0],[0,0,0,0,0,0,0,0,0],[0,0,0,0,0,0,0,0,0]]\n",
        "hand: List[bool] = [1,1,1,1,1,1,1,1,1,1,1,1]\n",
        "# 回答\n",
        "# legal_actions: List[List]= [\n",
        "#   [[0,0,0,0,0,0,0,0,0],[0,0,0,0,0,0,0,0,0],[0,0,0,0,0,0,0,0,0],\n",
        "#   [0,0,0,0,0,0,0,0,0],[0,0,0,0,0,0,0,0,0],[0,0,0,0,0,0,0,0,0]],\n",
        "#   [1,1,1,1,1,1,0,0,0,0,0,0]]\n",
        "\n",
        "id = create_id(is_first, is_choise,choise_board,choise_hand,board,hand)\n",
        "state = State(is_first, is_choise,choise_board,choise_hand,board,hand)\n",
        "\n",
        "# stateのテスト\n",
        "print(\"id = {}\".format(id))\n",
        "print(\"type(id) = {}\".format(type(id)))\n",
        "print(\"state = {}\".format(state))\n",
        "print(\"state.is_first = {}\".format(state.is_first))\n",
        "print(\"state.is_choise = {}\".format(state.is_choise))\n",
        "print(\"state.choise_board = {}\".format(state.choise_board))\n",
        "print(\"state.choise_hand = {}\".format(state.choise_hand))\n",
        "print(\"state.board = {}\".format(state.board))\n",
        "print(\"state.hand = {}\".format(state.hand))\n",
        "print(\"state.legal_actions = {}\".format(state.legal_actions))\n",
        "print(\"state.next_states = {}\".format(state.next_states()))\n",
        "print(\"self.is_done = {}\".format(state.is_done))\n",
        "print(\"self.winner = {}\".format(state.winner))\n",
        "\n"
      ],
      "execution_count": 8,
      "outputs": [
        {
          "output_type": "stream",
          "text": [
            "id = 00000000000000000000000000000000000000000000000000000000000000000000000000000000000000000000000000000000000000000000000000111111111111\n",
            "type(id) = <class 'str'>\n",
            "state = <__main__.State object at 0x7f99320395c0>\n",
            "state.is_first = False\n",
            "state.is_choise = False\n",
            "state.choise_board = [[0, 0, 0, 0, 0, 0, 0, 0, 0], [0, 0, 0, 0, 0, 0, 0, 0, 0], [0, 0, 0, 0, 0, 0, 0, 0, 0], [0, 0, 0, 0, 0, 0, 0, 0, 0], [0, 0, 0, 0, 0, 0, 0, 0, 0], [0, 0, 0, 0, 0, 0, 0, 0, 0]]\n",
            "state.choise_hand = [0, 0, 0, 0, 0, 0, 0, 0, 0, 0, 0, 0]\n",
            "state.board = [[0, 0, 0, 0, 0, 0, 0, 0, 0], [0, 0, 0, 0, 0, 0, 0, 0, 0], [0, 0, 0, 0, 0, 0, 0, 0, 0], [0, 0, 0, 0, 0, 0, 0, 0, 0], [0, 0, 0, 0, 0, 0, 0, 0, 0], [0, 0, 0, 0, 0, 0, 0, 0, 0]]\n",
            "state.hand = [1, 1, 1, 1, 1, 1, 1, 1, 1, 1, 1, 1]\n",
            "state.legal_actions = [[[0, 0, 0, 0, 0, 0, 0, 0, 0], [0, 0, 0, 0, 0, 0, 0, 0, 0], [0, 0, 0, 0, 0, 0, 0, 0, 0], [0, 0, 0, 0, 0, 0, 0, 0, 0], [0, 0, 0, 0, 0, 0, 0, 0, 0], [0, 0, 0, 0, 0, 0, 0, 0, 0]], [1, 1, 1, 1, 1, 1, 0, 0, 0, 0, 0, 0]]\n",
            "create_next_states : choiseなステートを作成する\n",
            "state.next_states = [<__main__.State object at 0x7f9932039588>, <__main__.State object at 0x7f9932039630>, <__main__.State object at 0x7f9932039668>, <__main__.State object at 0x7f99320396a0>, <__main__.State object at 0x7f99320396d8>, <__main__.State object at 0x7f9932039710>]\n",
            "self.is_done = False\n",
            "self.winner = 0\n"
          ],
          "name": "stdout"
        }
      ]
    },
    {
      "cell_type": "markdown",
      "metadata": {
        "id": "H17nr7uzNlzT"
      },
      "source": [
        "## 実装"
      ]
    },
    {
      "cell_type": "code",
      "metadata": {
        "colab": {
          "resources": {
            "http://localhost:8080/nbextensions/google.colab/files.js": {
              "data": "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",
              "ok": true,
              "headers": [
                [
                  "content-type",
                  "application/javascript"
                ]
              ],
              "status": 200,
              "status_text": ""
            }
          },
          "base_uri": "https://localhost:8080/",
          "height": 44
        },
        "id": "1EkT_wbeMtzN",
        "outputId": "49e39982-db49-44f9-fe97-64ff6236aaa3"
      },
      "source": [
        "import networkx as nx\n",
        "from google.colab import files\n",
        "\n",
        "# csvの読み込むためのモジュール\n",
        "import pandas as pd\n",
        "from pandas import DataFrame\n",
        "import numpy as np\n",
        "from tabulate import tabulate # pandasのdfをきれいに出力するためのモジュール\n",
        "\n",
        "# uploaded = files.upload()\n",
        "# for fn in uploaded.keys():\n",
        "#   print(\"hogehoge\")\n",
        "#   G = nx.readwrite.gml.read_gml(fn)\n",
        "#   nx.draw_spring(G, node_size=200, node_color=\"red\", with_labels=True)"
      ],
      "execution_count": 9,
      "outputs": [
        {
          "output_type": "display_data",
          "data": {
            "text/html": [
              "\n",
              "     <input type=\"file\" id=\"files-781ce354-26b4-4d60-90b2-fef83b8a760f\" name=\"files[]\" multiple disabled\n",
              "        style=\"border:none\" />\n",
              "     <output id=\"result-781ce354-26b4-4d60-90b2-fef83b8a760f\">\n",
              "      Upload widget is only available when the cell has been executed in the\n",
              "      current browser session. Please rerun this cell to enable.\n",
              "      </output>\n",
              "      <script src=\"/nbextensions/google.colab/files.js\"></script> "
            ],
            "text/plain": [
              "<IPython.core.display.HTML object>"
            ]
          },
          "metadata": {
            "tags": []
          }
        }
      ]
    },
    {
      "cell_type": "code",
      "metadata": {
        "colab": {
          "base_uri": "https://localhost:8080/"
        },
        "id": "t1XQ2IixR3hN",
        "outputId": "8e00529c-ba6d-4158-a8b6-358e2e3610bc"
      },
      "source": [
        "### BFSでゲーム木を作成するプログラム ### \n",
        "\n",
        "### 設定ここから ###\n",
        "printFlag = False\n",
        "\n",
        "### 設定ここまで ###\n",
        "\n",
        "###mainここから\n",
        "\n",
        "# unsolvedDf, solvedDfの初期化\n",
        "if printFlag:\n",
        "  print(\"===\")\n",
        "  print(\"プログラム開始\")\n",
        "  print(\"===\")\n",
        "  print()\n",
        "  print(\"データを初期化します\")\n",
        "cols = [\"PREVIOUS_STATES\", \"STATE\", \"NEXT_STATES\", \"RESULT\"] #[前の状態list， 状態, 次の状態list]\n",
        "df = pd.DataFrame(index=[], columns=cols)\n",
        "df.set_index(\"STATE\")\n",
        "unsolvedDf = df\n",
        "solvedDf = df\n",
        "if printFlag:\n",
        "  print(\"データを初期化しました\")\n",
        "  print()\n",
        "\n",
        "# 初期状態\"※1\"をunsolvedに追加する。unsolvedに積まれているノードは未訪問.\n",
        "if printFlag:\n",
        "  print(\"===\")\n",
        "  print(\"BFSの準備\")\n",
        "  print(\"===\")\n",
        "  print()\n",
        "  print(\"初期状態をセットします\")\n",
        "# 初期(setステート)\n",
        "is_first: bool = False\n",
        "is_choise: bool = False\n",
        "choise_board: List[List[bool]] =[[0,0,0,0,0,0,0,0,0],[0,0,0,0,0,0,0,0,0],[0,0,0,0,0,0,0,0,0],\n",
        "                                 [0,0,0,0,0,0,0,0,0],[0,0,0,0,0,0,0,0,0],[0,0,0,0,0,0,0,0,0]]\n",
        "choise_hand: List[bool] = [0,0,0,0,0,0,0,0,0,0,0,0]\n",
        "board: List[List[bool]] =[[0,0,0,0,0,0,0,0,0],[0,0,0,0,0,0,0,0,0],[0,0,0,0,0,0,0,0,0],\n",
        "                          [0,0,0,0,0,0,0,0,0],[0,0,0,0,0,0,0,0,0],[0,0,0,0,0,0,0,0,0]]\n",
        "hand: List[bool] = [1,1,1,1,1,1,1,1,1,1,1,1]\n",
        "state = State(is_first, is_choise,choise_board,choise_hand,board,hand)\n",
        "init_state = state.normalized_id\n",
        "previous_state = \"\"\n",
        "unsolvedDf = unsolvedDf.append(pd.Series([[previous_state], init_state, \"unsolved\", \"\"], index=df.columns, name=init_state))\n",
        "if printFlag:\n",
        "  print(\"初期状態をセットしました\") # 確認\n",
        "  print(\"確認[UNSOLVED_DF]:\") # 確認\n",
        "  print(unsolvedDf) # 確認\n",
        "  print() # 確認\n",
        "\n",
        "# unsolvedが空になるまで以下を行う. BFS開始\n",
        "if printFlag:\n",
        "  print(\"===\")\n",
        "  print(\"BFSを開始します\")\n",
        "  print(\"===\")\n",
        "  print()\n",
        "for _ in range(10): # while len(unsolvedDf) > 0: # 開発のためにfor文にしている。\n",
        "  # unsolvedDfから先頭のノードをpopする。\n",
        "  if len(unsolvedDf) <= 0:\n",
        "    break;\n",
        "  current_node = unsolvedDf.iloc[0]  # 先頭のノード(current_node)を抽出。\n",
        "  unsolvedDf.drop(unsolvedDf.index[0], inplace=True)  # 抽出したノードをunsolvedから削除。\n",
        "  # stateの作成\n",
        "  id = current_node.STATE\n",
        "  state = State(id2is_first(id), id2is_choise(id),id2choise_board(id),\n",
        "                id2choise_hand(id),id2board(id),id2hand(id))\n",
        "  # 勝敗の確認\n",
        "  result = state.winner\n",
        "  # 勝敗確定盤面なら\n",
        "  if state.is_done:\n",
        "    current_node.RESULT = state.winner\n",
        "    current_node.NEXT_STATES = []\n",
        "  else:  # 勝敗確定盤面でないなら\n",
        "    # 先頭のノード(current_node)から次のノード(next_nodes)を探索する。\n",
        "    next_states = state.next_states() # 次のノードの探索結果\n",
        "    next_state_ids = []\n",
        "    for next_state in next_states:\n",
        "      next_state_ids.append(next_state.normalized_id)\n",
        "    current_node.NEXT_STATES = next_state_ids # current_nodeのNEXT_STATESに探索結果を反映\n",
        "    # 探索した全ての状態について、以下を行う。\n",
        "    if printFlag:\n",
        "      print(\"unsolvedDfからpopされたノード'{}'の探索を行います\".format(current_node.STATE))\n",
        "    if len(next_state_ids) <= 0:\n",
        "      if printFlag:\n",
        "        print(\"    探索結果: このノードは末端です\")\n",
        "    for next_state in next_state_ids:\n",
        "      # もし、next_nodeが未発見ならば # unsolved, solvedのいずれにもnext_nodeが存在しない\n",
        "      if (next_state not in unsolvedDf.STATE.values) and (next_state not in solvedDf.STATE.values):\n",
        "        if next_state == current_node.STATE: # 次のノードが自身と同一\n",
        "          if printFlag:\n",
        "            print(\"探索結果: 自身のノード'{}'と同一です\".format(next_state))\n",
        "          continue;\n",
        "        else:\n",
        "          if printFlag:\n",
        "            print(\"    探索結果: 未発見のノード'{}'です\".format(next_state))\n",
        "          # T)そのノードを未訪問にする。 # unsolvedに追加\n",
        "          previous_state = [current_node.STATE]\n",
        "          next_node = pd.Series([previous_state, next_state, \"unsolved\", \"\"], index=df.columns, name=next_state) # next_nodeの作成\n",
        "          unsolvedDf = unsolvedDf.append(next_node)\n",
        "      else:  # F)そうではなく、発見済みならば\n",
        "        if printFlag:\n",
        "          print(\"    探索結果: 発見済みのノード'{}'です\".format(next_state))\n",
        "        #これを既に登録されていたノードのprevious_stateに追加する。\n",
        "        previous_state = [current_node.STATE] \n",
        "        if next_state in unsolvedDf.STATE.values: # unsolvedDfに存在\n",
        "          if printFlag:\n",
        "            print(\"        これはunsolvedに存在しています\")\n",
        "          # unsolvedDf[unsolvedDf.STATE.values == next_state])にprevious_stateを追加する\n",
        "          tmp = unsolvedDf.loc[next_state, \"PREVIOUS_STATES\"]\n",
        "          tmp.append(previous_state[0])       \n",
        "          unsolvedDf.loc[next_state, \"PREVIOUS_STATES\"] = tmp\n",
        "        elif next_state in solvedDf.STATE.values:# solveDfに存在\n",
        "          if printFlag:\n",
        "            print(\"        これはsolvedに存在しています\")\n",
        "          # solvedDf[solvedDf.STATE.values == next_state])にprevious_stateを追加する\n",
        "          tmp = solvedDf.loc[next_state, \"PREVIOUS_STATES\"]\n",
        "          tmp.append(previous_state[0])       \n",
        "          solvedDf.loc[next_state, \"PREVIOUS_STATES\"] = tmp\n",
        "        else: # 何らかの理由で漏れた状態\n",
        "          print(\"        エラー\")\n",
        "  # 現在のノード（current_node）をsolvedDfに追加する。solvedDfのノードは既訪問。 \n",
        "  solvedDf = solvedDf.append(current_node)\n",
        "\n",
        "if printFlag:\n",
        "  print()\n",
        "  print(\"BFSが終了しました\")\n",
        "  print()\n",
        "\n",
        "# 結果確認\n",
        "print(\"===\")\n",
        "print(\"結果確認\")\n",
        "print(\"===\")\n",
        "print()\n",
        "print(\"確認[unsolvedDf]:\")\n",
        "print()\n",
        "print(tabulate(unsolvedDf, unsolvedDf.columns,tablefmt='github', showindex=True))\n",
        "print()\n",
        "print(\"確認[solvedDf]:\")\n",
        "print()\n",
        "print(tabulate(solvedDf, solvedDf.columns,tablefmt='github', showindex=True))\n",
        "print()\n",
        "\n",
        "\n",
        "### mainここまで"
      ],
      "execution_count": 10,
      "outputs": [
        {
          "output_type": "stream",
          "text": [
            "create_next_states : choiseなステートを作成する\n",
            "create_next_states : choiseなステートを作成する\n",
            "create_next_states : choiseなステートを作成する\n",
            "create_next_states : choiseなステートを作成する\n",
            "create_next_states : choiseなステートを作成する\n",
            "create_next_states : choiseなステートを作成する\n",
            "create_next_states : choiseなステートを作成する\n",
            "create_next_states : choiseなステートを作成する\n",
            "create_next_states : choiseなステートを作成する\n",
            "create_next_states : choiseなステートを作成する\n",
            "===\n",
            "結果確認\n",
            "===\n",
            "\n",
            "確認[unsolvedDf]:\n",
            "\n",
            "|                                                                                                                                        | PREVIOUS_STATES                                                                                                                                                                                                                                                                                                                                                                                                                                                                                                                                                          |                                                                                                                                  STATE | NEXT_STATES   | RESULT   |\n",
            "|----------------------------------------------------------------------------------------------------------------------------------------|--------------------------------------------------------------------------------------------------------------------------------------------------------------------------------------------------------------------------------------------------------------------------------------------------------------------------------------------------------------------------------------------------------------------------------------------------------------------------------------------------------------------------------------------------------------------------|----------------------------------------------------------------------------------------------------------------------------------------|---------------|----------|\n",
            "| 00000000000000000000000000000000000000000000000000000000010000000000000000000000000000000000000000000000000000000000000000011101111111 | ['00000000000000000000000000000000000000000000000000000000000001000000000000000000000000000000000000000000000000000000000000111101111111', '00000000000000000000000000000000000000000000000000000000000001000000000000000000000000000000000000000000000000000000000000111101111111']                                                                                                                                                                                                                                                                                     | 00000000000000000000000000000000000000000000000000000000010000000000000000000000000000000000000000000000000000000000000000011101111111 | unsolved      |          |\n",
            "| 00000000000000000000000000000000000000000000000000000000000100000000000000000000000000000000000000000000000000000000000000110101111111 | ['00000000000000000000000000000000000000000000000000000000000001000000000000000000000000000000000000000000000000000000000000111101111111', '00000000000000000000000000000000000000000000000000000000000001000000000000000000000000000000000000000000000000000000000000111101111111']                                                                                                                                                                                                                                                                                     | 00000000000000000000000000000000000000000000000000000000000100000000000000000000000000000000000000000000000000000000000000110101111111 | unsolved      |          |\n",
            "| 00000000000000000000000000000000000000000000000000000000000001000000000000000000000000000000000000000000000000000000000000111100111111 | ['00000000000000000000000000000000000000000000000000000000000001000000000000000000000000000000000000000000000000000000000000111101111111']                                                                                                                                                                                                                                                                                                                                                                                                                               | 00000000000000000000000000000000000000000000000000000000000001000000000000000000000000000000000000000000000000000000000000111100111111 | unsolved      |          |\n",
            "| 00000000000000000000000000000000000000000000000000000000000100000000000000000000000000000000000000000000000000000000000000000111111111 | ['00000000000000000000000000000000000000000000000000000000010000000000000000000000000000000000000000000000000000000000000000001111111111', '00000000000000000000000000000000000000000000000000000000010000000000000000000000000000000000000000000000000000000000000000001111111111']                                                                                                                                                                                                                                                                                     | 00000000000000000000000000000000000000000000000000000000000100000000000000000000000000000000000000000000000000000000000000000111111111 | unsolved      |          |\n",
            "| 00000000000000000000000000000000000000000000000000000000000001000000000000000000000000000000000000000000000000000000000000001101111111 | ['00000000000000000000000000000000000000000000000000000000010000000000000000000000000000000000000000000000000000000000000000001111111111', '00000000000000000000000000000000000000000000000000000000010000000000000000000000000000000000000000000000000000000000000000001111111111']                                                                                                                                                                                                                                                                                     | 00000000000000000000000000000000000000000000000000000000000001000000000000000000000000000000000000000000000000000000000000001101111111 | unsolved      |          |\n",
            "| 00000000000000000000000000000000000000000000000000000000010000000000000000000000000000000000000000000000000000000000000000000111111111 | ['00000000000000000000000000000000000000000000000000000000000100000000000000000000000000000000000000000000000000000000000000010111111111', '00000000000000000000000000000000000000000000000000000000010000000000000000000000000000000000000000000000000000000000000000010111111111']                                                                                                                                                                                                                                                                                     | 00000000000000000000000000000000000000000000000000000000010000000000000000000000000000000000000000000000000000000000000000000111111111 | unsolved      |          |\n",
            "| 00000000000000000000000000000000000000000000000000000000000100000000000000000000000000000000000000000000000000000000000000010011111111 | ['00000000000000000000000000000000000000000000000000000000000100000000000000000000000000000000000000000000000000000000000000010111111111', '00000000000000000000000000000000000000000000000000000000010000000000000000000000000000000000000000000000000000000000000000010111111111']                                                                                                                                                                                                                                                                                     | 00000000000000000000000000000000000000000000000000000000000100000000000000000000000000000000000000000000000000000000000000010011111111 | unsolved      |          |\n",
            "| 00000000000000000000000000000000000000000000000000000000000001000000000000000000000000000000000000000000000000000000000000010101111111 | ['00000000000000000000000000000000000000000000000000000000000100000000000000000000000000000000000000000000000000000000000000010111111111', '00000000000000000000000000000000000000000000000000000000000100000000000000000000000000000000000000000000000000000000000000010111111111', '00000000000000000000000000000000000000000000000000000000010000000000000000000000000000000000000000000000000000000000000000010111111111', '00000000000000000000000000000000000000000000000000000000010000000000000000000000000000000000000000000000000000000000000000010111111111'] | 00000000000000000000000000000000000000000000000000000000000001000000000000000000000000000000000000000000000000000000000000010101111111 | unsolved      |          |\n",
            "| 00000000000000000000000000000000000000000000000000000000010000000000000000000000000000000000000000000000000000000000000000001101111111 | ['00000000000000000000000000000000000000000000000000000000000001000000000000000000000000000000000000000000000000000000000000011101111111']                                                                                                                                                                                                                                                                                                                                                                                                                               | 00000000000000000000000000000000000000000000000000000000010000000000000000000000000000000000000000000000000000000000000000001101111111 | unsolved      |          |\n",
            "| 00000000000000000000000000000000000000000000000000000000000100000000000000000000000000000000000000000000000000000000000000010101111111 | ['00000000000000000000000000000000000000000000000000000000000001000000000000000000000000000000000000000000000000000000000000011101111111', '00000000000000000000000000000000000000000000000000000000000001000000000000000000000000000000000000000000000000000000000000011101111111']                                                                                                                                                                                                                                                                                     | 00000000000000000000000000000000000000000000000000000000000100000000000000000000000000000000000000000000000000000000000000010101111111 | unsolved      |          |\n",
            "| 00000000000000000000000000000000000000000000000000000000000001000000000000000000000000000000000000000000000000000000000000011100111111 | ['00000000000000000000000000000000000000000000000000000000000001000000000000000000000000000000000000000000000000000000000000011101111111']                                                                                                                                                                                                                                                                                                                                                                                                                               | 00000000000000000000000000000000000000000000000000000000000001000000000000000000000000000000000000000000000000000000000000011100111111 | unsolved      |          |\n",
            "| 00000000000000000000000000000000000000000000000000000000010000000000000000000000000000000000000000000000000000000000000000010011111111 | ['00000000000000000000000000000000000000000000000000000000000100000000000000000000000000000000000000000000000000000000000000110011111111', '00000000000000000000000000000000000000000000000000000000000100000000000000000000000000000000000000000000000000000000000000110011111111']                                                                                                                                                                                                                                                                                     | 00000000000000000000000000000000000000000000000000000000010000000000000000000000000000000000000000000000000000000000000000010011111111 | unsolved      |          |\n",
            "| 00000000000000000000000000000000000000000000000000000000000001000000000000000000000000000000000000000000000000000000000000110001111111 | ['00000000000000000000000000000000000000000000000000000000000100000000000000000000000000000000000000000000000000000000000000110011111111', '00000000000000000000000000000000000000000000000000000000000100000000000000000000000000000000000000000000000000000000000000110011111111']                                                                                                                                                                                                                                                                                     | 00000000000000000000000000000000000000000000000000000000000001000000000000000000000000000000000000000000000000000000000000110001111111 | unsolved      |          |\n",
            "| 00000000000000000000000000000000000000000000000000000000010000000000000000000000000000000000000000000000000000000000000000010101111111 | ['00000000000000000000000000000000000000000000000000000000000001000000000000000000000000000000000000000000000000000000000000110101111111', '00000000000000000000000000000000000000000000000000000000000001000000000000000000000000000000000000000000000000000000000000110101111111']                                                                                                                                                                                                                                                                                     | 00000000000000000000000000000000000000000000000000000000010000000000000000000000000000000000000000000000000000000000000000010101111111 | unsolved      |          |\n",
            "| 00000000000000000000000000000000000000000000000000000000000100000000000000000000000000000000000000000000000000000000000000110001111111 | ['00000000000000000000000000000000000000000000000000000000000001000000000000000000000000000000000000000000000000000000000000110101111111']                                                                                                                                                                                                                                                                                                                                                                                                                               | 00000000000000000000000000000000000000000000000000000000000100000000000000000000000000000000000000000000000000000000000000110001111111 | unsolved      |          |\n",
            "| 00000000000000000000000000000000000000000000000000000000000001000000000000000000000000000000000000000000000000000000000000110100111111 | ['00000000000000000000000000000000000000000000000000000000000001000000000000000000000000000000000000000000000000000000000000110101111111']                                                                                                                                                                                                                                                                                                                                                                                                                               | 00000000000000000000000000000000000000000000000000000000000001000000000000000000000000000000000000000000000000000000000000110100111111 | unsolved      |          |\n",
            "\n",
            "確認[solvedDf]:\n",
            "\n",
            "|                                                                                                                                        | PREVIOUS_STATES                                                                                                                                                                                                                                                                      |                                                                                                                                  STATE | NEXT_STATES                                                                                                                                                                                                                                                                                                                                                                                                                                                                                                                                                                                                                                                                                                                                                                                                                                                  | RESULT   |\n",
            "|----------------------------------------------------------------------------------------------------------------------------------------|--------------------------------------------------------------------------------------------------------------------------------------------------------------------------------------------------------------------------------------------------------------------------------------|----------------------------------------------------------------------------------------------------------------------------------------|--------------------------------------------------------------------------------------------------------------------------------------------------------------------------------------------------------------------------------------------------------------------------------------------------------------------------------------------------------------------------------------------------------------------------------------------------------------------------------------------------------------------------------------------------------------------------------------------------------------------------------------------------------------------------------------------------------------------------------------------------------------------------------------------------------------------------------------------------------------|----------|\n",
            "| 00000000000000000000000000000000000000000000000000000000000000000000000000000000000000000000000000000000000000000000000000111111111111 | ['']                                                                                                                                                                                                                                                                                 | 00000000000000000000000000000000000000000000000000000000000000000000000000000000000000000000000000000000000000000000000000111111111111 | ['00000000000000000000000000000000000000000000000000000000010000000000000000000000000000000000000000000000000000000000000000011111111111', '00000000000000000000000000000000000000000000000000000000010000000000000000000000000000000000000000000000000000000000000000011111111111', '00000000000000000000000000000000000000000000000000000000000100000000000000000000000000000000000000000000000000000000000000110111111111', '00000000000000000000000000000000000000000000000000000000000100000000000000000000000000000000000000000000000000000000000000110111111111', '00000000000000000000000000000000000000000000000000000000000001000000000000000000000000000000000000000000000000000000000000111101111111', '00000000000000000000000000000000000000000000000000000000000001000000000000000000000000000000000000000000000000000000000000111101111111'] |          |\n",
            "| 00000000000000000000000000000000000000000000000000000000010000000000000000000000000000000000000000000000000000000000000000011111111111 | ['00000000000000000000000000000000000000000000000000000000000000000000000000000000000000000000000000000000000000000000000000111111111111', '00000000000000000000000000000000000000000000000000000000000000000000000000000000000000000000000000000000000000000000000000111111111111'] | 00000000000000000000000000000000000000000000000000000000010000000000000000000000000000000000000000000000000000000000000000011111111111 | ['00000000000000000000000000000000000000000000000000000000010000000000000000000000000000000000000000000000000000000000000000001111111111', '00000000000000000000000000000000000000000000000000000000000100000000000000000000000000000000000000000000000000000000000000010111111111', '00000000000000000000000000000000000000000000000000000000000100000000000000000000000000000000000000000000000000000000000000010111111111', '00000000000000000000000000000000000000000000000000000000000001000000000000000000000000000000000000000000000000000000000000011101111111', '00000000000000000000000000000000000000000000000000000000000001000000000000000000000000000000000000000000000000000000000000011101111111']                                                                                                                                           |          |\n",
            "| 00000000000000000000000000000000000000000000000000000000000100000000000000000000000000000000000000000000000000000000000000110111111111 | ['00000000000000000000000000000000000000000000000000000000000000000000000000000000000000000000000000000000000000000000000000111111111111', '00000000000000000000000000000000000000000000000000000000000000000000000000000000000000000000000000000000000000000000000000111111111111'] | 00000000000000000000000000000000000000000000000000000000000100000000000000000000000000000000000000000000000000000000000000110111111111 | ['00000000000000000000000000000000000000000000000000000000010000000000000000000000000000000000000000000000000000000000000000010111111111', '00000000000000000000000000000000000000000000000000000000010000000000000000000000000000000000000000000000000000000000000000010111111111', '00000000000000000000000000000000000000000000000000000000000100000000000000000000000000000000000000000000000000000000000000110011111111', '00000000000000000000000000000000000000000000000000000000000001000000000000000000000000000000000000000000000000000000000000110101111111', '00000000000000000000000000000000000000000000000000000000000001000000000000000000000000000000000000000000000000000000000000110101111111']                                                                                                                                           |          |\n",
            "| 00000000000000000000000000000000000000000000000000000000000001000000000000000000000000000000000000000000000000000000000000111101111111 | ['00000000000000000000000000000000000000000000000000000000000000000000000000000000000000000000000000000000000000000000000000111111111111', '00000000000000000000000000000000000000000000000000000000000000000000000000000000000000000000000000000000000000000000000000111111111111'] | 00000000000000000000000000000000000000000000000000000000000001000000000000000000000000000000000000000000000000000000000000111101111111 | ['00000000000000000000000000000000000000000000000000000000010000000000000000000000000000000000000000000000000000000000000000011101111111', '00000000000000000000000000000000000000000000000000000000010000000000000000000000000000000000000000000000000000000000000000011101111111', '00000000000000000000000000000000000000000000000000000000000100000000000000000000000000000000000000000000000000000000000000110101111111', '00000000000000000000000000000000000000000000000000000000000100000000000000000000000000000000000000000000000000000000000000110101111111', '00000000000000000000000000000000000000000000000000000000000001000000000000000000000000000000000000000000000000000000000000111100111111']                                                                                                                                           |          |\n",
            "| 00000000000000000000000000000000000000000000000000000000010000000000000000000000000000000000000000000000000000000000000000001111111111 | ['00000000000000000000000000000000000000000000000000000000010000000000000000000000000000000000000000000000000000000000000000011111111111']                                                                                                                                           | 00000000000000000000000000000000000000000000000000000000010000000000000000000000000000000000000000000000000000000000000000001111111111 | ['00000000000000000000000000000000000000000000000000000000000100000000000000000000000000000000000000000000000000000000000000000111111111', '00000000000000000000000000000000000000000000000000000000000100000000000000000000000000000000000000000000000000000000000000000111111111', '00000000000000000000000000000000000000000000000000000000000001000000000000000000000000000000000000000000000000000000000000001101111111', '00000000000000000000000000000000000000000000000000000000000001000000000000000000000000000000000000000000000000000000000000001101111111']                                                                                                                                                                                                                                                                                     |          |\n",
            "| 00000000000000000000000000000000000000000000000000000000000100000000000000000000000000000000000000000000000000000000000000010111111111 | ['00000000000000000000000000000000000000000000000000000000010000000000000000000000000000000000000000000000000000000000000000011111111111', '00000000000000000000000000000000000000000000000000000000010000000000000000000000000000000000000000000000000000000000000000011111111111'] | 00000000000000000000000000000000000000000000000000000000000100000000000000000000000000000000000000000000000000000000000000010111111111 | ['00000000000000000000000000000000000000000000000000000000010000000000000000000000000000000000000000000000000000000000000000000111111111', '00000000000000000000000000000000000000000000000000000000000100000000000000000000000000000000000000000000000000000000000000010011111111', '00000000000000000000000000000000000000000000000000000000000001000000000000000000000000000000000000000000000000000000000000010101111111', '00000000000000000000000000000000000000000000000000000000000001000000000000000000000000000000000000000000000000000000000000010101111111']                                                                                                                                                                                                                                                                                     |          |\n",
            "| 00000000000000000000000000000000000000000000000000000000000001000000000000000000000000000000000000000000000000000000000000011101111111 | ['00000000000000000000000000000000000000000000000000000000010000000000000000000000000000000000000000000000000000000000000000011111111111', '00000000000000000000000000000000000000000000000000000000010000000000000000000000000000000000000000000000000000000000000000011111111111'] | 00000000000000000000000000000000000000000000000000000000000001000000000000000000000000000000000000000000000000000000000000011101111111 | ['00000000000000000000000000000000000000000000000000000000010000000000000000000000000000000000000000000000000000000000000000001101111111', '00000000000000000000000000000000000000000000000000000000000100000000000000000000000000000000000000000000000000000000000000010101111111', '00000000000000000000000000000000000000000000000000000000000100000000000000000000000000000000000000000000000000000000000000010101111111', '00000000000000000000000000000000000000000000000000000000000001000000000000000000000000000000000000000000000000000000000000011100111111']                                                                                                                                                                                                                                                                                     |          |\n",
            "| 00000000000000000000000000000000000000000000000000000000010000000000000000000000000000000000000000000000000000000000000000010111111111 | ['00000000000000000000000000000000000000000000000000000000000100000000000000000000000000000000000000000000000000000000000000110111111111', '00000000000000000000000000000000000000000000000000000000000100000000000000000000000000000000000000000000000000000000000000110111111111'] | 00000000000000000000000000000000000000000000000000000000010000000000000000000000000000000000000000000000000000000000000000010111111111 | ['00000000000000000000000000000000000000000000000000000000010000000000000000000000000000000000000000000000000000000000000000000111111111', '00000000000000000000000000000000000000000000000000000000000100000000000000000000000000000000000000000000000000000000000000010011111111', '00000000000000000000000000000000000000000000000000000000000001000000000000000000000000000000000000000000000000000000000000010101111111', '00000000000000000000000000000000000000000000000000000000000001000000000000000000000000000000000000000000000000000000000000010101111111']                                                                                                                                                                                                                                                                                     |          |\n",
            "| 00000000000000000000000000000000000000000000000000000000000100000000000000000000000000000000000000000000000000000000000000110011111111 | ['00000000000000000000000000000000000000000000000000000000000100000000000000000000000000000000000000000000000000000000000000110111111111']                                                                                                                                           | 00000000000000000000000000000000000000000000000000000000000100000000000000000000000000000000000000000000000000000000000000110011111111 | ['00000000000000000000000000000000000000000000000000000000010000000000000000000000000000000000000000000000000000000000000000010011111111', '00000000000000000000000000000000000000000000000000000000010000000000000000000000000000000000000000000000000000000000000000010011111111', '00000000000000000000000000000000000000000000000000000000000001000000000000000000000000000000000000000000000000000000000000110001111111', '00000000000000000000000000000000000000000000000000000000000001000000000000000000000000000000000000000000000000000000000000110001111111']                                                                                                                                                                                                                                                                                     |          |\n",
            "| 00000000000000000000000000000000000000000000000000000000000001000000000000000000000000000000000000000000000000000000000000110101111111 | ['00000000000000000000000000000000000000000000000000000000000100000000000000000000000000000000000000000000000000000000000000110111111111', '00000000000000000000000000000000000000000000000000000000000100000000000000000000000000000000000000000000000000000000000000110111111111'] | 00000000000000000000000000000000000000000000000000000000000001000000000000000000000000000000000000000000000000000000000000110101111111 | ['00000000000000000000000000000000000000000000000000000000010000000000000000000000000000000000000000000000000000000000000000010101111111', '00000000000000000000000000000000000000000000000000000000010000000000000000000000000000000000000000000000000000000000000000010101111111', '00000000000000000000000000000000000000000000000000000000000100000000000000000000000000000000000000000000000000000000000000110001111111', '00000000000000000000000000000000000000000000000000000000000001000000000000000000000000000000000000000000000000000000000000110100111111']                                                                                                                                                                                                                                                                                     |          |\n",
            "\n"
          ],
          "name": "stdout"
        }
      ]
    },
    {
      "cell_type": "markdown",
      "metadata": {
        "id": "36GlZ_XFafcc"
      },
      "source": [
        "## 出力"
      ]
    },
    {
      "cell_type": "code",
      "metadata": {
        "colab": {
          "base_uri": "https://localhost:8080/"
        },
        "id": "XKu5aePDaiHw",
        "outputId": "3d6ae268-b3c2-4494-8244-f04affb14f69"
      },
      "source": [
        "# ドライブのマウント\n",
        "from google.colab import drive\n",
        "drive.mount('/content/drive')"
      ],
      "execution_count": 11,
      "outputs": [
        {
          "output_type": "stream",
          "text": [
            "Drive already mounted at /content/drive; to attempt to forcibly remount, call drive.mount(\"/content/drive\", force_remount=True).\n"
          ],
          "name": "stdout"
        }
      ]
    },
    {
      "cell_type": "code",
      "metadata": {
        "colab": {
          "base_uri": "https://localhost:8080/",
          "height": 379
        },
        "id": "9MApwincT8Q8",
        "outputId": "eb86b812-32e0-4d53-99d9-1ae2a3189622"
      },
      "source": [
        "# 出力\n",
        "# solvedDfをox_outputという名前で書き出し\n",
        "solvedDf.to_csv('/content/drive/My Drive/ox/workspace/ox_output.csv')\n",
        "# ox_outputの確認\n",
        "solvedDf = pd.read_csv(\n",
        "    \"/content/drive/My Drive/ox/workspace/ox_output.csv\",\n",
        "    index_col=0, # 最初の１行はデータ名。\n",
        "    encoding=\"cp932\" # windowsの追加文字に対応。おまじないだと思えば良い。\n",
        "    )\n",
        "print(solvedDf)"
      ],
      "execution_count": 12,
      "outputs": [
        {
          "output_type": "error",
          "ename": "FileNotFoundError",
          "evalue": "ignored",
          "traceback": [
            "\u001b[0;31m---------------------------------------------------------------------------\u001b[0m",
            "\u001b[0;31mFileNotFoundError\u001b[0m                         Traceback (most recent call last)",
            "\u001b[0;32m<ipython-input-12-3f95ff47488e>\u001b[0m in \u001b[0;36m<module>\u001b[0;34m()\u001b[0m\n\u001b[1;32m      1\u001b[0m \u001b[0;31m# 出力\u001b[0m\u001b[0;34m\u001b[0m\u001b[0;34m\u001b[0m\u001b[0;34m\u001b[0m\u001b[0m\n\u001b[1;32m      2\u001b[0m \u001b[0;31m# solvedDfをox_outputという名前で書き出し\u001b[0m\u001b[0;34m\u001b[0m\u001b[0;34m\u001b[0m\u001b[0;34m\u001b[0m\u001b[0m\n\u001b[0;32m----> 3\u001b[0;31m \u001b[0msolvedDf\u001b[0m\u001b[0;34m.\u001b[0m\u001b[0mto_csv\u001b[0m\u001b[0;34m(\u001b[0m\u001b[0;34m'/content/drive/My Drive/ox/workspace/ox_output.csv'\u001b[0m\u001b[0;34m)\u001b[0m\u001b[0;34m\u001b[0m\u001b[0;34m\u001b[0m\u001b[0m\n\u001b[0m\u001b[1;32m      4\u001b[0m \u001b[0;31m# ox_outputの確認\u001b[0m\u001b[0;34m\u001b[0m\u001b[0;34m\u001b[0m\u001b[0;34m\u001b[0m\u001b[0m\n\u001b[1;32m      5\u001b[0m solvedDf = pd.read_csv(\n",
            "\u001b[0;32m/usr/local/lib/python3.6/dist-packages/pandas/core/generic.py\u001b[0m in \u001b[0;36mto_csv\u001b[0;34m(self, path_or_buf, sep, na_rep, float_format, columns, header, index, index_label, mode, encoding, compression, quoting, quotechar, line_terminator, chunksize, date_format, doublequote, escapechar, decimal, errors)\u001b[0m\n\u001b[1;32m   3168\u001b[0m             \u001b[0mdecimal\u001b[0m\u001b[0;34m=\u001b[0m\u001b[0mdecimal\u001b[0m\u001b[0;34m,\u001b[0m\u001b[0;34m\u001b[0m\u001b[0;34m\u001b[0m\u001b[0m\n\u001b[1;32m   3169\u001b[0m         )\n\u001b[0;32m-> 3170\u001b[0;31m         \u001b[0mformatter\u001b[0m\u001b[0;34m.\u001b[0m\u001b[0msave\u001b[0m\u001b[0;34m(\u001b[0m\u001b[0;34m)\u001b[0m\u001b[0;34m\u001b[0m\u001b[0;34m\u001b[0m\u001b[0m\n\u001b[0m\u001b[1;32m   3171\u001b[0m \u001b[0;34m\u001b[0m\u001b[0m\n\u001b[1;32m   3172\u001b[0m         \u001b[0;32mif\u001b[0m \u001b[0mpath_or_buf\u001b[0m \u001b[0;32mis\u001b[0m \u001b[0;32mNone\u001b[0m\u001b[0;34m:\u001b[0m\u001b[0;34m\u001b[0m\u001b[0;34m\u001b[0m\u001b[0m\n",
            "\u001b[0;32m/usr/local/lib/python3.6/dist-packages/pandas/io/formats/csvs.py\u001b[0m in \u001b[0;36msave\u001b[0;34m(self)\u001b[0m\n\u001b[1;32m    188\u001b[0m                 \u001b[0mencoding\u001b[0m\u001b[0;34m=\u001b[0m\u001b[0mself\u001b[0m\u001b[0;34m.\u001b[0m\u001b[0mencoding\u001b[0m\u001b[0;34m,\u001b[0m\u001b[0;34m\u001b[0m\u001b[0;34m\u001b[0m\u001b[0m\n\u001b[1;32m    189\u001b[0m                 \u001b[0merrors\u001b[0m\u001b[0;34m=\u001b[0m\u001b[0mself\u001b[0m\u001b[0;34m.\u001b[0m\u001b[0merrors\u001b[0m\u001b[0;34m,\u001b[0m\u001b[0;34m\u001b[0m\u001b[0;34m\u001b[0m\u001b[0m\n\u001b[0;32m--> 190\u001b[0;31m                 \u001b[0mcompression\u001b[0m\u001b[0;34m=\u001b[0m\u001b[0mdict\u001b[0m\u001b[0;34m(\u001b[0m\u001b[0mself\u001b[0m\u001b[0;34m.\u001b[0m\u001b[0mcompression_args\u001b[0m\u001b[0;34m,\u001b[0m \u001b[0mmethod\u001b[0m\u001b[0;34m=\u001b[0m\u001b[0mself\u001b[0m\u001b[0;34m.\u001b[0m\u001b[0mcompression\u001b[0m\u001b[0;34m)\u001b[0m\u001b[0;34m,\u001b[0m\u001b[0;34m\u001b[0m\u001b[0;34m\u001b[0m\u001b[0m\n\u001b[0m\u001b[1;32m    191\u001b[0m             )\n\u001b[1;32m    192\u001b[0m             \u001b[0mclose\u001b[0m \u001b[0;34m=\u001b[0m \u001b[0;32mTrue\u001b[0m\u001b[0;34m\u001b[0m\u001b[0;34m\u001b[0m\u001b[0m\n",
            "\u001b[0;32m/usr/local/lib/python3.6/dist-packages/pandas/io/common.py\u001b[0m in \u001b[0;36mget_handle\u001b[0;34m(path_or_buf, mode, encoding, compression, memory_map, is_text, errors)\u001b[0m\n\u001b[1;32m    491\u001b[0m         \u001b[0;32mif\u001b[0m \u001b[0mencoding\u001b[0m\u001b[0;34m:\u001b[0m\u001b[0;34m\u001b[0m\u001b[0;34m\u001b[0m\u001b[0m\n\u001b[1;32m    492\u001b[0m             \u001b[0;31m# Encoding\u001b[0m\u001b[0;34m\u001b[0m\u001b[0;34m\u001b[0m\u001b[0;34m\u001b[0m\u001b[0m\n\u001b[0;32m--> 493\u001b[0;31m             \u001b[0mf\u001b[0m \u001b[0;34m=\u001b[0m \u001b[0mopen\u001b[0m\u001b[0;34m(\u001b[0m\u001b[0mpath_or_buf\u001b[0m\u001b[0;34m,\u001b[0m \u001b[0mmode\u001b[0m\u001b[0;34m,\u001b[0m \u001b[0mencoding\u001b[0m\u001b[0;34m=\u001b[0m\u001b[0mencoding\u001b[0m\u001b[0;34m,\u001b[0m \u001b[0merrors\u001b[0m\u001b[0;34m=\u001b[0m\u001b[0merrors\u001b[0m\u001b[0;34m,\u001b[0m \u001b[0mnewline\u001b[0m\u001b[0;34m=\u001b[0m\u001b[0;34m\"\"\u001b[0m\u001b[0;34m)\u001b[0m\u001b[0;34m\u001b[0m\u001b[0;34m\u001b[0m\u001b[0m\n\u001b[0m\u001b[1;32m    494\u001b[0m         \u001b[0;32melif\u001b[0m \u001b[0mis_text\u001b[0m\u001b[0;34m:\u001b[0m\u001b[0;34m\u001b[0m\u001b[0;34m\u001b[0m\u001b[0m\n\u001b[1;32m    495\u001b[0m             \u001b[0;31m# No explicit encoding\u001b[0m\u001b[0;34m\u001b[0m\u001b[0;34m\u001b[0m\u001b[0;34m\u001b[0m\u001b[0m\n",
            "\u001b[0;31mFileNotFoundError\u001b[0m: [Errno 2] No such file or directory: '/content/drive/My Drive/ox/workspace/ox_output.csv'"
          ]
        }
      ]
    },
    {
      "cell_type": "code",
      "metadata": {
        "id": "c6rMDKJBaVit"
      },
      "source": [
        ""
      ],
      "execution_count": null,
      "outputs": []
    }
  ]
}