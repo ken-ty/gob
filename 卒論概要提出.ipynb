{
  "nbformat": 4,
  "nbformat_minor": 0,
  "metadata": {
    "colab": {
      "name": "gogogobb.ipynb",
      "provenance": [],
      "collapsed_sections": [
        "ATDqK41c6vTr",
        "HFVyW3uiFlRs",
        "lDWBXPXBKvBA",
        "8-6caZTrSRrc"
      ],
      "authorship_tag": "ABX9TyOYzUKxX8bOTgUg2V1bOr2e",
      "include_colab_link": true
    },
    "kernelspec": {
      "name": "python3",
      "display_name": "Python 3"
    }
  },
  "cells": [
    {
      "cell_type": "markdown",
      "metadata": {
        "id": "view-in-github",
        "colab_type": "text"
      },
      "source": [
        "<a href=\"https://colab.research.google.com/github/kentokura/gob/blob/main/%E5%8D%92%E8%AB%96%E6%A6%82%E8%A6%81%E6%8F%90%E5%87%BA.ipynb\" target=\"_parent\"><img src=\"https://colab.research.google.com/assets/colab-badge.svg\" alt=\"Open In Colab\"/></a>"
      ]
    },
    {
      "cell_type": "markdown",
      "metadata": {
        "id": "awifDYZM5IEB"
      },
      "source": [
        "# Pythonでゴブレットゴブラーズのゲーム木を作成する\n",
        "\n",
        "- [ゴブレットゴブラーズ (日本語版)](https://sgrk.blog.fc2.com/blog-entry-3687.html)\n",
        "- [ソースコード設計スライド](https://docs.google.com/presentation/d/1K8fbRlk24Y_J3M--F-WnYYN0hddL89w3EGN4Zgw-L1g/edit?usp=sharing)\n",
        "\n",
        "- [卒論概要](https://docs.google.com/document/d/1jEXvVmpUPCaowl3xR1qgyhUFGVHFVzyZjBo9F8OAR7M/edit?usp=sharing)"
      ]
    },
    {
      "cell_type": "markdown",
      "metadata": {
        "id": "cD8nKgVbnhuX"
      },
      "source": [
        "# 必要な関数群"
      ]
    },
    {
      "cell_type": "markdown",
      "metadata": {
        "id": "ATDqK41c6vTr"
      },
      "source": [
        "## stateを定義"
      ]
    },
    {
      "cell_type": "markdown",
      "metadata": {
        "id": "3VqX1PtG_GQl"
      },
      "source": [
        "set_stateとchoise_stateの２種類がある。  \n",
        "必要な情報を84bitで表す。  \n",
        "state = 0b_0_0_0_000000_000000000_000000000000000000000000000000000000000000000000000000_000000000000\n",
        "\n",
        "\n",
        "| 区分 | is_first | is_choise | is_choise_board | choise_piece_type | choise_piece | board | hand |\n",
        "| ---- | ---- | ---- | ---- | ---- | ---- | ---- | ---- |\n",
        "| bit数 | 1bit | 1bit | 1bit | 6bit | 9bit | 54bit | 12bit |\n",
        "| 例 | 1 | 1 | 1 | 100000 | 100000000 | 010000000 001000000 000110000 000000000 000000000 000000000 | 00 00 00 00 00 00 |\n",
        "| 説明 | 手番 | モード | 持ち上げている駒は盤か手か | 持ち上げている駒の種類[rl,rm,rs,bl,bm,bs] | 持ち上げている駒のマス[0,1,2,3,4,5,6,7,8] | 盤面に置いてある駒[rl0, rl1, ..., rm0..., bl0...] | 手駒[rlの個数, rmの...] |\n",
        "\n",
        "説明の補足 :   \n",
        "- hand  “00”...その駒は持ってない, “01”...一つ持ってる, “11”...２つ持ってる\n"
      ]
    },
    {
      "cell_type": "code",
      "metadata": {
        "colab": {
          "base_uri": "https://localhost:8080/"
        },
        "id": "fFYAkYl4I2fW",
        "outputId": "2b5c365d-7a01-4563-8cdf-1db0e6710b3a"
      },
      "source": [
        "# 確認\n",
        "state = 0b_1_0_0_100000_100000000_100000000000000000000000000000000000000000000000000000_100000000000\n",
        "print(state) # 10進数\n",
        "print(f'{state:084b}')#bin(プレフィックスなし)\n",
        "print(type(f'{state:084b}')) #文字列です\n",
        "print(len(f'{state:084b}')) # bit数の確認\n",
        "# 1bit取り出す\n",
        "print(f'{state:084b}'[0])\n",
        "# 複数のbitを取り出す\n",
        "print(f'{state:084b}'[1+1+1:1+1+1+6])\n",
        "# 1bit書き換え\n",
        "print(\"変更前 : \" + f'{state:084b}')\n",
        "state = int(f'{state:084b}'[:1] + '1' + f'{state:084b}'[2:], 2)\n",
        "print(\"変更後 : \" + f'{state:084b}')\n",
        "# 複数のbitを書き換え\n",
        "print(\"変更前 : \" + f'{state:084b}')\n",
        "state = int(f'{state:084b}'[:2] + '1' + f'{state:084b}'[3:72] + '111111000000', 2)\n",
        "print(\"変更後 : \" + f'{state:084b}')\n",
        "\n",
        "# バラす\n",
        "is_first = f'{state:084b}'[0]\n",
        "is_choise = f'{state:084b}'[1]\n",
        "is_choise_board = f'{state:084b}'[2]\n",
        "choise_piece_type = f'{state:084b}'[3:3+6]\n",
        "choise_piece = f'{state:084b}'[9:9+9]\n",
        "board = f'{state:084b}'[18:18+54]\n",
        "hand = f'{state:084b}'[72:72+12]\n",
        "print(\"バラす  : \" + is_first + is_choise + is_choise_board + choise_piece_type + choise_piece + board + hand)"
      ],
      "execution_count": 2,
      "outputs": [
        {
          "output_type": "stream",
          "text": [
            "10899258735951288572315648\n",
            "100100000100000000100000000000000000000000000000000000000000000000000000100000000000\n",
            "<class 'str'>\n",
            "84\n",
            "1\n",
            "100000\n",
            "変更前 : 100100000100000000100000000000000000000000000000000000000000000000000000100000000000\n",
            "変更後 : 110100000100000000100000000000000000000000000000000000000000000000000000100000000000\n",
            "変更前 : 110100000100000000100000000000000000000000000000000000000000000000000000100000000000\n",
            "変更後 : 111100000100000000100000000000000000000000000000000000000000000000000000111111000000\n",
            "バラす  : 111100000100000000100000000000000000000000000000000000000000000000000000111111000000\n"
          ],
          "name": "stdout"
        }
      ]
    },
    {
      "cell_type": "markdown",
      "metadata": {
        "id": "HFVyW3uiFlRs"
      },
      "source": [
        "## actionを定義"
      ]
    },
    {
      "cell_type": "markdown",
      "metadata": {
        "id": "yotqBGVWFlR-"
      },
      "source": [
        "set_action, choise_actionともに、行動する駒を表す。\n",
        "\n",
        "必要な情報を16bitで表す。  \n",
        "action = 0b_0_000000_000000000\n",
        "\n",
        "\n",
        "| 区分 | is_choise_board | choise_piece_type | choise_place |\n",
        "| ---- | ---- | ---- | ---- | \n",
        "| bit数 | 1bit | 6bit | 9bit | \n",
        "| 例 | 1 | 100000 | 100000000 | \n",
        "| 説明 | 行動する駒は盤か手か | 行動する駒の種類[rl,rm,rs,bl,bm,bs] | 行動する駒のマス[0,1,2,3,4,5,6,7,8] | \n"
      ]
    },
    {
      "cell_type": "code",
      "metadata": {
        "colab": {
          "base_uri": "https://localhost:8080/"
        },
        "id": "BcEqfO5keTdY",
        "outputId": "aeaba915-29c7-4c82-8ef8-89b047bc7a58"
      },
      "source": [
        "# 確認\n",
        "action = 0b_1_100000_100000000\n",
        "print(action) # 10進数\n",
        "print(f'{action:016b}')#bin(プレフィックスなし)\n",
        "print(type(f'{action:016b}')) #文字列です\n",
        "print(len(f'{action:016b}')) # bit数の確認\n",
        "# 1bit取り出す\n",
        "print(f'{action:016b}'[0])\n",
        "# 複数のbitを取り出す\n",
        "print(f'{action:016b}'[1:1+6])\n",
        "# 書き換え\n",
        "print(\"変更前 : \" + f'{action:016b}')\n",
        "action = int(f'{action:016b}'[:1] + '000001' + '000000010', 2)\n",
        "print(\"変更後 : \" + f'{action:016b}')\n",
        "\n",
        "\n",
        "# バラす\n",
        "is_choise_board = f'{action:016b}'[0]\n",
        "choise_piece_type = f'{action:016b}'[1:1+6]\n",
        "choise_piece = f'{action:016b}'[7:7+9]\n",
        "print(\"バラす  : \" + is_choise_board + choise_piece_type + choise_piece)"
      ],
      "execution_count": 3,
      "outputs": [
        {
          "output_type": "stream",
          "text": [
            "49408\n",
            "1100000100000000\n",
            "<class 'str'>\n",
            "16\n",
            "1\n",
            "100000\n",
            "変更前 : 1100000100000000\n",
            "変更後 : 1000001000000010\n",
            "バラす  : 1000001000000010\n"
          ],
          "name": "stdout"
        }
      ]
    },
    {
      "cell_type": "markdown",
      "metadata": {
        "id": "xVHsMZm2EfVR"
      },
      "source": [
        "## stateからその合法手一覧であるactionsを作成する関数"
      ]
    },
    {
      "cell_type": "markdown",
      "metadata": {
        "id": "sAbSoXNdHYXN"
      },
      "source": [
        "合法手をすべて列挙する... actions = [action1, action2, …]  \n",
        "leagal_actions(state) -> actions: を作成\n",
        "```\n",
        "def leagal_actions(state) -> actions:\n",
        "  actions = []\n",
        "  もし stateがchoise_stateなら、\n",
        "    actions = leagal_actions_from_choise_state(choise_state)\n",
        "  そうでなく stateがset_stateなら、\n",
        "    actions = leagal_actions_from_set_state(set_state)\n",
        "  return actions\n",
        "```\n",
        "stateごとに内部関数を作成。  \n",
        "- choise_stateから合法手を作成 : leagal_actions_from_choise_state(choise_state)\n",
        "- set_stateから合法手を作成 : leagal_actions_from_set_state(set_state)"
      ]
    },
    {
      "cell_type": "markdown",
      "metadata": {
        "id": "gRev157cMTRB"
      },
      "source": [
        "### choise_stateから合法手を作成"
      ]
    },
    {
      "cell_type": "markdown",
      "metadata": {
        "id": "ZktSvEogMHco"
      },
      "source": [
        "  \n",
        "leagal_actions_from_choise_state(choise_state) -> set_actions:  \n",
        "setする駒と場所一覧... set_actions を作成する  \n",
        "setできる駒と場所とは....\n",
        "- handは行動できない。あくまで選んだ駒を盤面に配置するという作業だから。\n",
        "- choiseしている駒と同じ駒しか行動できない。例: rlを選んだならrlしか行動できない。\n",
        "- choiseした駒以上の大きさの駒があるマスには行動できない。\n",
        "- choiseした駒が盤面なら、\n",
        "    - choiseした駒があったマスには行動できない。"
      ]
    },
    {
      "cell_type": "code",
      "metadata": {
        "id": "tdDnn4FOLIMx"
      },
      "source": [
        "def leagal_actions_from_choise_state(choise_state):\n",
        "  is_choise_board = f'{choise_state:084b}'[2]\n",
        "  choise_piece_type = f'{choise_state:084b}'[3:3+6]\n",
        "  choise_piece = f'{choise_state:084b}'[9:9+9]\n",
        "  board = f'{choise_state:084b}'[18:18+54]\n",
        "\n",
        "  # set_actions_bitを作成\n",
        "  set_actions_bit = f'{0:054b}' # 54bit。すべての駒と位置が行動不能で初期化\n",
        "  # choiseしている駒と同じ駒は行動できる。\n",
        "  cpy_f = choise_piece_type.find('1')\n",
        "  set_actions_bit = set_actions_bit[:9*cpy_f] + '111111111' + set_actions_bit[9*(cpy_f+1):]\n",
        "  # choiseしている駒がboardの駒なら、そのマスに行動出来ない\n",
        "  if is_choise_board == '1': \n",
        "    cp_f = choise_piece.find('1')\n",
        "    set_actions_bit = set_actions_bit[:9*cpy_f+cp_f] + '0' + set_actions_bit[9*cpy_f+cp_f+1:]\n",
        "  # choiseした駒以上の大きさの駒があるマスには行動できない。\n",
        "  for mass in range(9):\n",
        "    if board[mass] == '1' or board[mass+27] == \"1\": # L駒があるか\n",
        "      set_actions_bit = set_actions_bit[:9*cpy_f+mass] + '0' + set_actions_bit[9*cpy_f+mass+1:]\n",
        "    if cpy_f in [1, 2, 4, 5]: #選択してあるこまがM, Sなら\n",
        "      if board[mass+9] == '1' or board[mass+27+9] == \"1\": # M駒があるか\n",
        "        set_actions_bit = set_actions_bit[:9*cpy_f+mass] + '0' + set_actions_bit[9*cpy_f+mass+1:]\n",
        "    if cpy_f in [2, 5]: #選択してあるこまがSなら\n",
        "      if board[mass+18] == '1' or board[mass+27+18] == \"1\": # S駒があるか\n",
        "        set_actions_bit = set_actions_bit[:9*cpy_f+mass] + '0' + set_actions_bit[9*cpy_f+mass+1:]\n",
        "\n",
        "  # actions_bitをactionsに変換\n",
        "  set_actions = []\n",
        "  for i, bit in enumerate(set_actions_bit):\n",
        "    if bit == '1':\n",
        "      set_action = int('0b_1_000000_000000000', 2)\n",
        "      set_action = int(f'{set_action:016b}'[:1+(i//9)] + '1' + f'{set_action:016b}'[1+(i//9)+1:], 2) # 駒の種類の反映\n",
        "      set_action = int(f'{set_action:016b}'[:1+6+(i%9)] + '1' + f'{set_action:016b}'[1+6+(i%9)+1:], 2) # 駒の位置の反映\n",
        "      set_actions.append(set_action)\n",
        "\n",
        "  return set_actions"
      ],
      "execution_count": 4,
      "outputs": []
    },
    {
      "cell_type": "code",
      "metadata": {
        "colab": {
          "base_uri": "https://localhost:8080/"
        },
        "id": "y-lcyofzpfIw",
        "outputId": "2185c1b3-d802-45b3-9784-8d8e9cdc4791"
      },
      "source": [
        "# 確認\n",
        "\n",
        "# choiseしている駒と同じ駒は行動できる。\n",
        "\n",
        "# 先手, 手駒Lを選択時, 置ける駒はL, その位置は0~8のハズ\n",
        "state = 0b_1_1_0_100000_000000000_000000000_000000000_000000000_000000000_000000000_000000000_011111111111\n",
        "print(\"先手, 手駒Lを選択時, 置ける駒はL, その位置は0~8のハズ\")\n",
        "for action in leagal_actions_from_choise_state(state):\n",
        "  print(f'{action:016b}')\n",
        "# 先手, 手駒Mを選択時, 置ける駒はM, その位置は0~8のハズ\n",
        "state = 0b_1_1_0_010000_000000000_000000000_000000000_000000000_000000000_000000000_000000000_110111111111\n",
        "print(\"先手, 手駒Mを選択時, 置ける駒はM, その位置は0~8のハズ\")\n",
        "for action in leagal_actions_from_choise_state(state):\n",
        "  print(f'{action:016b}')\n",
        "# 後手, 手駒Sを選択時, 置ける駒はS, その位置は0~8のハズ\n",
        "state = 0b_0_1_0_000001_000000000_000000000_000000000_000000000_000000000_000000000_000000000_111111111101\n",
        "print(\"後手, 手駒Sを選択時, 置ける駒はS, その位置は0~8のハズ\")\n",
        "for action in leagal_actions_from_choise_state(state):\n",
        "  print(f'{action:016b}')\n",
        "print()\n",
        "\n",
        "# choiseしている駒がboardの駒なら、そのマスに行動出来ない\n",
        "\n",
        "# 先手, マス0の自駒Lを選択時, 行動位置は1~8のハズ(盤面に他の駒なし)\n",
        "state = 0b_1_1_1_100000_100000000_000000000_000000000_000000000_000000000_000000000_000000000_011111111111\n",
        "print(\"先手, マス0の自駒Lを選択時, 置ける駒はL, その位置は0~8のハズ(盤面に他の駒なし)\")\n",
        "for action in leagal_actions_from_choise_state(state):\n",
        "  print(f'{action:016b}')\n",
        "# 先手, マス3の自駒Sを選択時, 行動位置は0~2, 4~8のハズ(盤面に他の駒なし)\n",
        "state = 0b_1_1_1_001000_000100000_000000000_000000000_000000000_000000000_000000000_000000000_111101111111\n",
        "print(\"先手, マス3の自駒Sを選択時, 置ける駒はS, その位置は0~2, 4~8のハズ(盤面に他の駒なし)\")\n",
        "for action in leagal_actions_from_choise_state(state):\n",
        "  print(f'{action:016b}')\n",
        "print()\n",
        "\n",
        "# choiseした駒以上の大きさの駒があるマスには行動できない。\n",
        "\n",
        "# 先手, 手駒Lを選択時, 盤面には[0, 0, 0, RL, RM, RS, BL, BM, BS], 行動位置は0~2, 4~5, 7~8のハズ\n",
        "state = 0b_1_1_0_100000_100000000_000100000_000010000_000001000_000000100_000000010_000000001_000101010101\n",
        "print(\"先手, 手駒Lを選択時, 盤面には[0, 0, 0, RL, RM, RS, BL, BM, BS], 行動位置は0~2, 4~5, 7~8のハズ\")\n",
        "for action in leagal_actions_from_choise_state(state):\n",
        "  print(f'{action:016b}')\n",
        "# 先手, 手駒Mを選択時, 盤面には[0, 0, 0, RL, RM, RS, BL, BM, BS], 行動位置は0~2, 5, 8のハズ\n",
        "state = 0b_1_1_0_010000_100000000_000100000_000010000_000001000_000000100_000000010_000000001_000101010101\n",
        "print(\"先手, 手駒Mを選択時, 盤面には[0, 0, 0, RL, RM, RS, BL, BM, BS], 行動位置は0~2, 5, 8のハズ\")\n",
        "for action in leagal_actions_from_choise_state(state):\n",
        "  print(f'{action:016b}')\n",
        "# 後手, 手駒Sを選択時, 盤面には[0, 0, 0, RL, RM, RS, BL, BM, BS], 行動位置は0~2のハズ\n",
        "state = 0b_1_1_0_000001_100000000_000100000_000010000_000001000_000000100_000000010_000000001_000101010101\n",
        "print(\"後手, 手駒Sを選択時, 盤面には[0, 0, 0, RL, RM, RS, BL, BM, BS], 行動位置は0~2のハズ\")\n",
        "for action in leagal_actions_from_choise_state(state):\n",
        "  print(f'{action:016b}')"
      ],
      "execution_count": 5,
      "outputs": [
        {
          "output_type": "stream",
          "text": [
            "先手, 手駒Lを選択時, 置ける駒はL, その位置は0~8のハズ\n",
            "1100000100000000\n",
            "1100000010000000\n",
            "1100000001000000\n",
            "1100000000100000\n",
            "1100000000010000\n",
            "1100000000001000\n",
            "1100000000000100\n",
            "1100000000000010\n",
            "1100000000000001\n",
            "先手, 手駒Mを選択時, 置ける駒はM, その位置は0~8のハズ\n",
            "1010000100000000\n",
            "1010000010000000\n",
            "1010000001000000\n",
            "1010000000100000\n",
            "1010000000010000\n",
            "1010000000001000\n",
            "1010000000000100\n",
            "1010000000000010\n",
            "1010000000000001\n",
            "後手, 手駒Sを選択時, 置ける駒はS, その位置は0~8のハズ\n",
            "1000001100000000\n",
            "1000001010000000\n",
            "1000001001000000\n",
            "1000001000100000\n",
            "1000001000010000\n",
            "1000001000001000\n",
            "1000001000000100\n",
            "1000001000000010\n",
            "1000001000000001\n",
            "\n",
            "先手, マス0の自駒Lを選択時, 置ける駒はL, その位置は0~8のハズ(盤面に他の駒なし)\n",
            "1100000010000000\n",
            "1100000001000000\n",
            "1100000000100000\n",
            "1100000000010000\n",
            "1100000000001000\n",
            "1100000000000100\n",
            "1100000000000010\n",
            "1100000000000001\n",
            "先手, マス3の自駒Sを選択時, 置ける駒はS, その位置は0~2, 4~8のハズ(盤面に他の駒なし)\n",
            "1001000100000000\n",
            "1001000010000000\n",
            "1001000001000000\n",
            "1001000000010000\n",
            "1001000000001000\n",
            "1001000000000100\n",
            "1001000000000010\n",
            "1001000000000001\n",
            "\n",
            "先手, 手駒Lを選択時, 盤面には[0, 0, 0, RL, RM, RS, BL, BM, BS], 行動位置は0~2, 4~5, 7~8のハズ\n",
            "1100000100000000\n",
            "1100000010000000\n",
            "1100000001000000\n",
            "1100000000010000\n",
            "1100000000001000\n",
            "1100000000000010\n",
            "1100000000000001\n",
            "先手, 手駒Mを選択時, 盤面には[0, 0, 0, RL, RM, RS, BL, BM, BS], 行動位置は0~2, 5, 8のハズ\n",
            "1010000100000000\n",
            "1010000010000000\n",
            "1010000001000000\n",
            "1010000000001000\n",
            "1010000000000001\n",
            "後手, 手駒Sを選択時, 盤面には[0, 0, 0, RL, RM, RS, BL, BM, BS], 行動位置は0~2のハズ\n",
            "1000001100000000\n",
            "1000001010000000\n",
            "1000001001000000\n"
          ],
          "name": "stdout"
        }
      ]
    },
    {
      "cell_type": "markdown",
      "metadata": {
        "id": "tkcWK-JrZ558"
      },
      "source": [
        "### set_stateから合法手を作成"
      ]
    },
    {
      "cell_type": "markdown",
      "metadata": {
        "id": "Pk0TZvxTZ559"
      },
      "source": [
        "leagal_actions_from_set_state(set_state) -> choise_actions:  \n",
        "choiseできる駒の一覧... choise_actions を作成する  \n",
        "choiseできる駒とは....  \n",
        "- 自分の駒しか行動できない\n",
        "\n",
        "手駒なら,\n",
        "- 手駒に動かしたい駒が１つもなければ、その駒は行動できない。\n",
        "- 動かしたい駒以上の大きさの駒が配置されているマスには行動できない。\n",
        "\n",
        "盤上の駒なら、\n",
        "- 盤上の一番表面にある駒しか行動できない。\n",
        "- 動かしたい駒以上の大きさの駒があるマスには行動できない。"
      ]
    },
    {
      "cell_type": "code",
      "metadata": {
        "id": "UlgDKNGtvWlV"
      },
      "source": [
        "def leagal_actions_from_set_state(set_state):\n",
        "  is_first = f'{set_state:084b}'[0]\n",
        "  board = f'{set_state:084b}'[18:18+54]\n",
        "  hand = f'{set_state:084b}'[72:72+12]\n",
        "\n",
        "  # 盤面の各マスに駒が存在するかどうか\n",
        "  exist_place = f'{int(board[0:9], 2) | int(board[9:18], 2) | int(board[18:27], 2) | int(board[27:36], 2) | int(board[36:45], 2) | int(board[45:54], 2):09b}' \n",
        "  # 手駒は,\n",
        "  choise_hand_actions_bit = '111111'\n",
        "  for piece_type in range(6): # 手駒にその駒が１つもないなら行動不可\n",
        "    if hand[piece_type*2:piece_type*2+2] == \"00\": \n",
        "      choise_hand_actions_bit = choise_hand_actions_bit[:piece_type] + '0' + choise_hand_actions_bit[piece_type+1:]\n",
        "  if exist_place == \"111111111\": #Sは空きマスが1つ以上ないと選べない\n",
        "    mask = \"0b_110_110\"\n",
        "    choise_hand_actions_bit = f'{int(choise_hand_actions_bit, 2) & int(mask, 2) :06b}'\n",
        "  if is_first == \"1\": # 先手なら、先手の駒しか動かせない\n",
        "    choise_hand_actions_bit = choise_hand_actions_bit[:3] + '000'\n",
        "  else: # 後手なら、後手の駒しか動かせない\n",
        "    choise_hand_actions_bit = '000' + choise_hand_actions_bit[3:]\n",
        "  # 盤上の駒は、\n",
        "  exist_large_place = int(board[0:9], 2) | int(board[27:36], 2)\n",
        "  exist_middle_place = int(board[9:18], 2) | int(board[36:45], 2)\n",
        "  # 盤上の一番表面にある駒しか行動できない\n",
        "  choise_board_actions_bit = board[0:9] \\\n",
        "   + f'{int(board[9:18], 2) & ~exist_large_place :09b}' \\\n",
        "   + f'{int(board[9:18], 2) & ~(exist_large_place | exist_middle_place):09b}' \\\n",
        "   + board[27:36] \\\n",
        "   + f'{int(board[36:45], 2) & ~exist_large_place :09b}' \\\n",
        "   + f'{int(board[9:18], 2) & ~(exist_large_place | exist_middle_place):09b}' \n",
        "  # Sは空きマスが1つ以上ないと選べない\n",
        "  if exist_place == \"111111111\":\n",
        "    mask = \"0b_111111111_111111111_000000000_111111111_111111111_000000000\"\n",
        "    choise_board_actions_bit =  f'{int(choise_board_actions_bit, 2) & int(mask, 2) :054b}'\n",
        "  if is_first == \"1\": # 先手なら、先手の駒しか動かせない\n",
        "    choise_board_actions_bit = choise_board_actions_bit[:27] + '000000000000000000000000000'\n",
        "  else: # 後手なら、後手の駒しか動かせない\n",
        "    choise_board_actions_bit = '000000000000000000000000000' + choise_board_actions_bit[27:]\n",
        "\n",
        "  # choise_hand_actions_bitをchoise_actionsへchoise_actionに変換しながら追加\n",
        "  choise_actions = []\n",
        "  for i, bit in enumerate(choise_hand_actions_bit): # choise_hand_actions_bit = '000_000\n",
        "    if bit == '1':\n",
        "      choise_action = int('0b_0_000000_000000000', 2)\n",
        "      choise_action = int(f'{choise_action:016b}'[:1+i] + '1' + f'{choise_action:016b}'[1+i+1:], 2) # 駒の種類の反映\n",
        "      choise_actions.append(choise_action)\n",
        "\n",
        "  # choise_board_actions_bitをchoise_actionsへchoise_actionに変換しながら追加\n",
        "  for i, bit in enumerate(choise_board_actions_bit): # choise_board_actions_bit = '000000000_000000000_000000000_000000000_000000000_000000000'\n",
        "    if bit == '1':\n",
        "      choise_action = int('0b_1_000000_000000000', 2)\n",
        "      choise_action = int(f'{choise_action:016b}'[:1+(i//9)] + '1' + f'{choise_action:016b}'[1+(i//9)+1:], 2) # 駒の種類の反映\n",
        "      choise_action = int(f'{choise_action:016b}'[:1+6+(i%9)] + '1' + f'{choise_action:016b}'[1+6+(i%9)+1:], 2) # 駒の位置の反映\n",
        "      choise_actions.append(choise_action)\n",
        "\n",
        "  return choise_actions"
      ],
      "execution_count": 6,
      "outputs": []
    },
    {
      "cell_type": "code",
      "metadata": {
        "colab": {
          "base_uri": "https://localhost:8080/"
        },
        "id": "Bf0R9t95EvIs",
        "outputId": "1ee41d0a-9176-4117-d0ca-1a2ced3e8371"
      },
      "source": [
        "# 確認\n",
        "\n",
        "# 手駒\n",
        "# 先手, 手駒にその駒が１つもないなら行動不可\n",
        "state = 0b_1_0_0_000000_000000000_000000000_000000000_000000000_000000000_000000000_000000000_110100110100\n",
        "print(\"# 先手, 手駒にその駒が１つもないなら行動不可。(行動可能は先手の駒数が2,1つのL駒とM駒のハズ)\")\n",
        "for action in leagal_actions_from_set_state(state):\n",
        "  print(f'{action:016b}')\n",
        "print()\n",
        "#Sは空きマスが1つ以上ないと選べない\n",
        "state = 0b_1_0_0_000000_000000000_110000000_001100000_000000000_000011000_000000110_000000000_000011000011\n",
        "print(\"# 先手, Sは空きマスが1つ以上ないと行動不可。(行動可能は8が空きマスなので自駒S + 盤上の自駒L,M)\")\n",
        "for action in leagal_actions_from_set_state(state):\n",
        "  print(f'{action:016b}')\n",
        "state = 0b_1_0_0_000000_000000000_110000000_001100000_000000000_000011000_000000110_000000001_000011000001\n",
        "print(\"# 先手, Sは空きマスが1つ以上ないと行動不可。(行動可能は空きマスがないなので盤上の自駒L,M)\")\n",
        "for action in leagal_actions_from_set_state(state):\n",
        "  print(f'{action:016b}')\n",
        "print()\n",
        "\n",
        "# 盤上の駒\n",
        "# 先手、盤上の一番表面にある駒しか行動できない。(行動可能は0マスにあるL駒と1マスにあるM駒)\n",
        "state = 0b_1_0_0_000000_000000000_100000000_110000000_110000000_000000000_000000000_000000000_000000111111\n",
        "print(\"# 先手、盤上の一番表面にある駒しか行動できない。(行動可能は0マスにあるL駒と1マスにあるM駒)\")\n",
        "for action in leagal_actions_from_set_state(state):\n",
        "  print(f'{action:016b}')"
      ],
      "execution_count": 7,
      "outputs": [
        {
          "output_type": "stream",
          "text": [
            "# 先手, 手駒にその駒が１つもないなら行動不可。(行動可能は先手の駒数が2,1つのL駒とM駒のハズ)\n",
            "0100000000000000\n",
            "0010000000000000\n",
            "\n",
            "# 先手, Sは空きマスが1つ以上ないと行動不可。(行動可能は8が空きマスなので自駒S + 盤上の自駒L,M)\n",
            "0001000000000000\n",
            "1100000100000000\n",
            "1100000010000000\n",
            "1010000001000000\n",
            "1010000000100000\n",
            "# 先手, Sは空きマスが1つ以上ないと行動不可。(行動可能は空きマスがないなので盤上の自駒L,M)\n",
            "1100000100000000\n",
            "1100000010000000\n",
            "1010000001000000\n",
            "1010000000100000\n",
            "\n",
            "# 先手、盤上の一番表面にある駒しか行動できない。(行動可能は0マスにあるL駒と1マスにあるM駒)\n",
            "1100000100000000\n",
            "1010000010000000\n"
          ],
          "name": "stdout"
        }
      ]
    },
    {
      "cell_type": "markdown",
      "metadata": {
        "id": "iZAysk9lMfDU"
      },
      "source": [
        "### 合法手をすべて列挙する"
      ]
    },
    {
      "cell_type": "code",
      "metadata": {
        "id": "8PASc-uXIIEc"
      },
      "source": [
        "def legal_actions(state):\n",
        "  actions = []\n",
        "  if f'{state:084b}'[1] == '1':\n",
        "    actions = leagal_actions_from_choise_state(state)\n",
        "  else:\n",
        "    actions = leagal_actions_from_set_state(state)\n",
        "  return actions"
      ],
      "execution_count": 81,
      "outputs": []
    },
    {
      "cell_type": "code",
      "metadata": {
        "colab": {
          "base_uri": "https://localhost:8080/"
        },
        "id": "pJ2C72CHJ3wz",
        "outputId": "db819fd7-1ad5-4b52-9042-bbabce984f3b"
      },
      "source": [
        "# 確認\n",
        "\n",
        "# 先手, 手駒Lを選択時, 置ける駒はL, その位置は0~8のハズ\n",
        "state = 0b_1_1_0_100000_000000000_000000000_000000000_000000000_000000000_000000000_000000000_011111111111\n",
        "print(\"先手, 手駒Lを選択時, 置ける駒はL, その位置は0~8のハズ\")\n",
        "for action in legal_actions(state):\n",
        "  print(f'{action:016b}')"
      ],
      "execution_count": 82,
      "outputs": [
        {
          "output_type": "stream",
          "text": [
            "先手, 手駒Lを選択時, 置ける駒はL, その位置は0~8のハズ\n",
            "1100000100000000\n",
            "1100000010000000\n",
            "1100000001000000\n",
            "1100000000100000\n",
            "1100000000010000\n",
            "1100000000001000\n",
            "1100000000000100\n",
            "1100000000000010\n",
            "1100000000000001\n"
          ],
          "name": "stdout"
        }
      ]
    },
    {
      "cell_type": "markdown",
      "metadata": {
        "id": "CFc4bv44J7OL"
      },
      "source": [
        "## state, actionから次のstateを生成する関数の作成\n"
      ]
    },
    {
      "cell_type": "markdown",
      "metadata": {
        "id": "cjT8gCN5-ajZ"
      },
      "source": [
        "stateにactionを反映して、stateを作成する\n",
        "```\n",
        "def create_next_state(state, action) -> next_state:\n",
        "\tnext_state = “”\n",
        "\tもし stateがchoise_stateなら、\n",
        "\t\tnext_state = next_state_from_choise_state(choise_state, set_action)\n",
        "\tそうでなく、set_stateなら\n",
        "\t\tnext_state = next_state_from_set_state(set_state, choise_action)\n",
        "\treturn next_state\n",
        "```\n",
        "stateごとに関数を作成。  \n",
        "- choise_stateから次のstateを作成 : next_state_from_choise_state(choise_state, set_action)\n",
        "- set_stateから次のstateを作成 : next_state_from_set_state(set_state, choise_action)\n"
      ]
    },
    {
      "cell_type": "markdown",
      "metadata": {
        "id": "AHh79_s_A55Y"
      },
      "source": [
        "### choise_stateから次のstateを作成"
      ]
    },
    {
      "cell_type": "code",
      "metadata": {
        "id": "_ElM5uL1A9kw"
      },
      "source": [
        "def next_state_from_choise_state(choise_state, set_action):\n",
        "  is_first = f'{choise_state:084b}'[0]\n",
        "  is_choise_board = f'{choise_state:084b}'[2]\n",
        "  choise_piece_type = f'{choise_state:084b}'[3:3+6]\n",
        "  choise_piece = f'{choise_state:084b}'[9:9+9]\n",
        "  board = f'{choise_state:084b}'[18:18+54]\n",
        "  hand = f'{choise_state:084b}'[72:72+12]\n",
        "\n",
        "\t# set_actionで選択している駒と位置を、boardで1にする。\n",
        "  piece_type = f'{set_action:016b}'[1:7].find('1')\n",
        "  piece_place = f'{set_action:016b}'[7:].find('1')\n",
        "  board = board[:piece_type*9+piece_place] + '1' +  board[piece_type*9+piece_place+1:] \n",
        "\n",
        "\t# 手番プレイヤーの交代 … is_firstを反転\n",
        "  is_first = \"0\" if is_first == \"1\" else \"1\"\n",
        "\t# stateのモードを切り替える...is_choiseを0にする\n",
        "  is_choise = \"0\"\n",
        "  # is_choise_board, choise_piece_type, choise_piece をすべて0埋め\n",
        "  is_choise_board = \"0\"\n",
        "  choise_piece_type = \"000000\"\n",
        "  choise_piece = \"000000000\"\n",
        "\n",
        "  # next_stateの作成\n",
        "  next_state = int(is_first + is_choise + is_choise_board + choise_piece_type + choise_piece + board + hand, 2)\n",
        "  return next_state"
      ],
      "execution_count": 83,
      "outputs": []
    },
    {
      "cell_type": "code",
      "metadata": {
        "colab": {
          "base_uri": "https://localhost:8080/"
        },
        "id": "ILQ3-V9PeRb9",
        "outputId": "a60ad4c8-1837-420c-d389-ff895e554f01"
      },
      "source": [
        "# 確認\n",
        "\n",
        "# (state = 先手初期浮き手駒Lのchoise盤面, action = Lを0マスに置く) => (state = 後手、先手L駒が0に配置された盤面のset状態)\n",
        "state = 0b_1_1_0_100000_000000000_000000000000000000000000000000000000000000000000000000_011111111111\n",
        "action = 0b_1_100000_100000000\n",
        "next_state = next_state_from_choise_state(state, action)\n",
        "print(\"正解 : next_state = 000000000000000000100000000000000000000000000000000000000000000000000000011111111111\")\n",
        "print( f'結果 : next_state = {next_state:084b}')\n",
        "print()\n",
        "\n",
        "# (state = 後手先手Lが0かつ浮き手駒Lのchoise盤面, action = Lを1マスに置く) => (state = 先手、先手L駒が0, 後手L駒が1に配置された盤面のset状態)\n",
        "state = 0b_0_1_0_000100_000000000_100000000000000000000000000000000000000000000000000000_011111011111\n",
        "action = 0b_1_000100_010000000\n",
        "next_state = next_state_from_choise_state(state, action)\n",
        "print(\"正解 : next_state = 100000000000000000100000000000000000000000000010000000000000000000000000011111011111\")\n",
        "print( f'結果 : next_state = {next_state:084b}')\n",
        "print()\n",
        "\n",
        "# (state = 先手先手L0後手L1浮き盤駒Lのchoise盤面, action = Lを2マスに置く) => (state = 後手、先手L駒が2、後手L駒が1に配置された盤面のset状態)\n",
        "state = 0b_1_1_1_100000_100000000_000000000000000000000000000010000000000000000000000000_011111011111\n",
        "action = 0b_1_100000_001000000\n",
        "next_state = next_state_from_choise_state(state, action)\n",
        "print(\"正解 : next_state = 000000000000000000001000000000000000000000000010000000000000000000000000011111011111\")\n",
        "print( f'結果 : next_state = {next_state:084b}')\n",
        "print()"
      ],
      "execution_count": 84,
      "outputs": [
        {
          "output_type": "stream",
          "text": [
            "正解 : next_state = 000000000000000000100000000000000000000000000000000000000000000000000000011111111111\n",
            "結果 : next_state = 000000000000000000100000000000000000000000000000000000000000000000000000011111111111\n",
            "\n",
            "正解 : next_state = 100000000000000000100000000000000000000000000010000000000000000000000000011111011111\n",
            "結果 : next_state = 100000000000000000100000000000000000000000000010000000000000000000000000011111011111\n",
            "\n",
            "正解 : next_state = 000000000000000000001000000000000000000000000010000000000000000000000000011111011111\n",
            "結果 : next_state = 000000000000000000001000000000000000000000000010000000000000000000000000011111011111\n",
            "\n"
          ],
          "name": "stdout"
        }
      ]
    },
    {
      "cell_type": "markdown",
      "metadata": {
        "id": "Hf3tD4cLBDt8"
      },
      "source": [
        "### set_stateから次のstateを作成"
      ]
    },
    {
      "cell_type": "code",
      "metadata": {
        "id": "psobtSOUBDt9"
      },
      "source": [
        "def next_state_from_set_state(set_state, choise_action):\n",
        "  is_first = f'{set_state:084b}'[0]\n",
        "  is_choise_board = f'{set_state:084b}'[2]\n",
        "  choise_piece_type = f'{set_state:084b}'[3:3+6]\n",
        "  choise_piece = f'{set_state:084b}'[9:9+9]\n",
        "  board = f'{set_state:084b}'[18:18+54]\n",
        "  hand = f'{set_state:084b}'[72:72+12]\n",
        "\n",
        "\t# stateのモードを切り替える...is_choiseを1にする\n",
        "  is_choise = \"1\"\n",
        "  # choise_actionをis_choise_board, choise_piece_type, choise_piece に反映する\n",
        "  is_choise_board = f'{choise_action:016b}'[0]\n",
        "  choise_piece_type = f'{choise_action:016b}'[1:7]\n",
        "  choise_piece =  f'{choise_action:016b}'[7:16]\n",
        "  # 選択した駒をboard, handから取り除く\n",
        "  piece_type = f'{choise_action:016b}'[1:7].find('1')\n",
        "  piece_place = f'{choise_action:016b}'[7:].find('1')\n",
        "  if f'{choise_action:016b}'[0] == \"1\":   # choise_actionで盤の駒を選択しているなら\n",
        "    # choise_actionで選択している駒と位置を、boardで0にする。\n",
        "    board = board[:piece_type*9+piece_place] + '0' +  board[piece_type*9+piece_place+1:] \n",
        "  # choise_actionで選択している駒の数を、handで1減らす。\n",
        "  # “00”...その駒は持ってない, “01”...一つ持ってる, “11”...２つ持ってる\t\n",
        "  if hand[piece_type*2:piece_type*2+2] == \"11\":\n",
        "    hand = hand[:piece_type*2] + \"01\" + hand[piece_type*2+2:]\n",
        "  else: # hand[piece_type*2:piece_type*2+2] == \"01\":\n",
        "    hand = hand[:piece_type*2] + \"00\" + hand[piece_type*2+2:]\n",
        "\n",
        "  # next_stateの作成\n",
        "  next_state = int(is_first + is_choise + is_choise_board + choise_piece_type + choise_piece + board + hand, 2)\n",
        "  return next_state"
      ],
      "execution_count": 85,
      "outputs": []
    },
    {
      "cell_type": "markdown",
      "metadata": {
        "id": "BB7z7GO7HgFA"
      },
      "source": [
        "### 正規化"
      ]
    },
    {
      "cell_type": "code",
      "metadata": {
        "id": "8D4NCTWDHikp"
      },
      "source": [
        "def convert_normalization_state(state):\n",
        "  is_first = f'{state:084b}'[0]\n",
        "  is_choise = f'{state:084b}'[1]\n",
        "  is_choise_board = f'{state:084b}'[2]\n",
        "  choise_piece_type = f'{state:084b}'[3:3+6]\n",
        "  choise_piece = f'{state:084b}'[9:9+9]\n",
        "  board = f'{state:084b}'[18:18+54]\n",
        "  hand = f'{state:084b}'[72:72+12]\n",
        "\n",
        "  # 変換表を定義\n",
        "  convert_tables = [[6,3,0,7,4,1,8,5,2],[8,7,6,5,4,3,2,1,0],\n",
        "                    [2,5,8,1,4,7,0,3,6],[2,1,0,5,4,3,8,7,6],\n",
        "                    [6,7,8,3,4,5,0,1,2],[0,3,6,1,4,7,2,5,8],[8,5,2,7,4,1,6,3,0]]\n",
        "\n",
        "  # 変換表でboardを変換したcand_boardを作成し、boardと比較して小さいなら上書きする\n",
        "  # もしより小さい候補が見つかったら、それと同じ変換表でchoise_pieceも変換する\n",
        "  board_list = list(board)\n",
        "  choise_piece_list = list(choise_piece)\n",
        "  for convert_table in convert_tables:\n",
        "    cand_board_list = [0] * 54\n",
        "    for i in range(6):\n",
        "      for after_num, before_num in enumerate(convert_table):\n",
        "        cand_board_list[i*9 + after_num] = board_list[i*9 + before_num]\n",
        "    # print(\"cand_board : \" + \"\".join(cand_board_list))  # デバッグ用\n",
        "    # board_list と cand_board_list を比較\n",
        "    if board_list > cand_board_list:\n",
        "      board_list = cand_board_list # 上書き\n",
        "      for after_num, before_num in enumerate(convert_table): # choise_pieceの変換\n",
        "        choise_piece_list[after_num] = choise_piece_list[before_num]\n",
        "\n",
        "  # board_list, choise_piece_listをboard, choise_pieceに変換\n",
        "  board = \"\".join(board_list)\n",
        "  choise_piece = \"\".join(choise_piece_list)\n",
        "\n",
        "  normalization_state = int(is_first + is_choise + is_choise_board + choise_piece_type + choise_piece + board + hand, 2)\n",
        "  return normalization_state"
      ],
      "execution_count": 86,
      "outputs": []
    },
    {
      "cell_type": "code",
      "metadata": {
        "colab": {
          "base_uri": "https://localhost:8080/"
        },
        "id": "uXBY-kuzKjQ_",
        "outputId": "3ed4158c-5c0d-4aa6-8454-6465dde3573a"
      },
      "source": [
        "# 確認\n",
        "# 先手, 手駒Lを選択時, 置ける駒はL, その位置は0~8のハズ\n",
        "state = 0b_1_0_0_000000_000000000_100000000_000000000_000000000_000000000_000000000_000000000_011111111111\n",
        "print(\"先手L駒0マスにおく -> 先手L駒は8マスに\")\n",
        "print(f'結果 : normalization_state = {convert_normalization_state(state):084b}')"
      ],
      "execution_count": 87,
      "outputs": [
        {
          "output_type": "stream",
          "text": [
            "先手L駒0マスにおく -> 先手L駒は8マスに\n",
            "結果 : normalization_state = 100000000000000000000000001000000000000000000000000000000000000000000000011111111111\n"
          ],
          "name": "stdout"
        }
      ]
    },
    {
      "cell_type": "markdown",
      "metadata": {
        "id": "FQiMHlsg-9zk"
      },
      "source": [
        "### stateのモードに関わらず、次のstateを生成する"
      ]
    },
    {
      "cell_type": "code",
      "metadata": {
        "id": "9--a8uXH_qcB"
      },
      "source": [
        "def create_next_state(state, action):\n",
        "  is_choise = f'{state:084b}'[1]\n",
        "  next_state = 0\n",
        "  if is_choise == \"1\":\n",
        "    next_state = next_state_from_choise_state(state, action)\n",
        "  else:\n",
        "    next_state = next_state_from_set_state(state, action)\n",
        "  next_state = convert_normalization_state(next_state) # 下記確認ではコメントアウト\n",
        "  return next_state"
      ],
      "execution_count": 88,
      "outputs": []
    },
    {
      "cell_type": "code",
      "metadata": {
        "colab": {
          "base_uri": "https://localhost:8080/"
        },
        "id": "DLCYyg_ZAhiL",
        "outputId": "008afc11-5a5b-4286-ee73-624ac080c027"
      },
      "source": [
        "# 確認\n",
        "# ※ 正規化前の確認。正規化したら正解と結果は異なる。\n",
        "# (state = 先手初期set盤面, action = 手駒Lを選択) => (state = 先手、初期choise盤面、手駒L選択の状態)\n",
        "state = 0b_1_0_0_000000_000000000_000000000000000000000000000000000000000000000000000000_111111111111\n",
        "action = 0b_0_100000_000000000\n",
        "next_state = create_next_state(state, action)\n",
        "print(\"正解 : next_state = 110100000000000000000000000000000000000000000000000000000000000000000000011111111111\")\n",
        "print( f'結果 : next_state = {next_state:084b}')\n",
        "print()\n",
        "\n",
        "# (state = 先手初期浮き手駒Lのchoise盤面, action = Lを0マスに置く) => (state = 後手、先手L駒が0に配置された盤面のset状態)\n",
        "state = 0b_1_1_0_100000_000000000_000000000000000000000000000000000000000000000000000000_011111111111\n",
        "action = 0b_1_100000_100000000\n",
        "next_state = create_next_state(state, action)\n",
        "print(\"正解 : next_state = 000000000000000000100000000000000000000000000000000000000000000000000000011111111111\")\n",
        "print( f'結果 : next_state = {next_state:084b}')\n",
        "print()\n",
        "\n",
        "# (state = 後手0マスに先手L駒のset盤面, action = 手駒Mを選択) => (state = 後手、マスに先手L駒の盤面、手駒M選択のchoise状態)\n",
        "state = 0b_0_0_0_000000_000000000_100000000000000000000000000000000000000000000000000000_011111111111\n",
        "action = 0b_0_000010_000000000\n",
        "next_state = create_next_state(state, action)\n",
        "print(\"正解 : next_state = 010000010000000000100000000000000000000000000000000000000000000000000000011111110111\")\n",
        "print( f'結果 : next_state = {next_state:084b}')\n",
        "print()\n",
        "\n",
        "# (state = 後手先手Lが0かつ浮き手駒Lのchoise盤面, action = Lを1マスに置く) => (state = 先手、先手L駒が0, 後手L駒が1に配置された盤面のset状態)\n",
        "state = 0b_0_1_0_000100_000000000_100000000000000000000000000000000000000000000000000000_011111011111\n",
        "action = 0b_1_000100_010000000\n",
        "next_state = create_next_state(state, action)\n",
        "print(\"正解 : next_state = 100000000000000000100000000000000000000000000010000000000000000000000000011111011111\")\n",
        "print( f'結果 : next_state = {next_state:084b}')\n",
        "print()\n",
        "\n",
        "# (state = 先手先手L0後手L1のset盤面, action = 盤駒Lを選択) => (state = 先手、後手L1浮き盤駒Lのchoise盤面、手駒L選択の状態)\n",
        "state = 0b_1_0_0_000000_000000000_100000000000000000000000000010000000000000000000000000_011111011111\n",
        "action = 0b_1_100000_100000000\n",
        "next_state = create_next_state(state, action)\n",
        "print(\"正解 : next_state = 111100000100000000000000000000000000000000000010000000000000000000000000011111011111\")\n",
        "print( f'結果 : next_state = {next_state:084b}')\n",
        "print()\n",
        "\n",
        "# (state = 先手先手L0後手L1浮き盤駒Lのchoise盤面, action = Lを2マスに置く) => (state = 後手、先手L駒が2、後手L駒が1に配置された盤面のset状態)\n",
        "state = 0b_1_1_1_100000_100000000_000000000000000000000000000010000000000000000000000000_011111011111\n",
        "action = 0b_1_100000_001000000\n",
        "next_state = create_next_state(state, action)\n",
        "print(\"正解 : next_state = 000000000000000000001000000000000000000000000010000000000000000000000000011111011111\")\n",
        "print( f'結果 : next_state = {next_state:084b}')\n",
        "print()"
      ],
      "execution_count": 89,
      "outputs": [
        {
          "output_type": "stream",
          "text": [
            "正解 : next_state = 110100000000000000000000000000000000000000000000000000000000000000000000011111111111\n",
            "結果 : next_state = 110100000000000000000000000000000000000000000000000000000000000000000000011111111111\n",
            "\n",
            "正解 : next_state = 000000000000000000100000000000000000000000000000000000000000000000000000011111111111\n",
            "結果 : next_state = 000000000000000000000000001000000000000000000000000000000000000000000000011111111111\n",
            "\n",
            "正解 : next_state = 010000010000000000100000000000000000000000000000000000000000000000000000011111110111\n",
            "結果 : next_state = 010000010000000000000000001000000000000000000000000000000000000000000000011111110111\n",
            "\n",
            "正解 : next_state = 100000000000000000100000000000000000000000000010000000000000000000000000011111011111\n",
            "結果 : next_state = 100000000000000000000000001000000000000000000000000010000000000000000000011111011111\n",
            "\n",
            "正解 : next_state = 111100000100000000000000000000000000000000000010000000000000000000000000011111011111\n",
            "結果 : next_state = 111100000000000000000000000000000000000000000000000010000000000000000000001111011111\n",
            "\n",
            "正解 : next_state = 000000000000000000001000000000000000000000000010000000000000000000000000011111011111\n",
            "結果 : next_state = 000000000000000000000000001000000000000000000000000010000000000000000000011111011111\n",
            "\n"
          ],
          "name": "stdout"
        }
      ]
    },
    {
      "cell_type": "markdown",
      "metadata": {
        "id": "lDWBXPXBKvBA"
      },
      "source": [
        "## 結合テスト\n",
        "\n"
      ]
    },
    {
      "cell_type": "markdown",
      "metadata": {
        "id": "Eb_Fn136UYa8"
      },
      "source": [
        "actions が空になるまで、初期盤面からnext_stateを探索していく。  \n",
        "ここでは、`action = actions[0]`とする。"
      ]
    },
    {
      "cell_type": "code",
      "metadata": {
        "colab": {
          "base_uri": "https://localhost:8080/"
        },
        "id": "l771_y8vRD54",
        "outputId": "d7f8bb32-51f8-4328-9a5d-773fcf3f0936"
      },
      "source": [
        "# 確認\n",
        "state = 0b_1_0_0_000000_000000000_000000000000000000000000000000000000000000000000000000_111111111111\n",
        "print(\"0番目\")\n",
        "print(\"状態 : {}\".format(state))\n",
        "action = legal_actions(state)[0]\n",
        "print(\"行動 : {}\".format(action))\n",
        "for i in range(1,10):\n",
        "  print(str(i) + \"番目\")\n",
        "  state = create_next_state(state, action)\n",
        "  print(\"状態 : {}\".format(state))\n",
        "  action = legal_actions(state)[0]\n",
        "  print(\"行動 : {}\".format(action))\n",
        "  print()\n"
      ],
      "execution_count": 98,
      "outputs": [
        {
          "output_type": "stream",
          "text": [
            "0番目\n",
            "状態 : 9671406556917033397653503\n",
            "行動 : 16384\n",
            "1番目\n",
            "状態 : 15716035654990179271182335\n",
            "行動 : 49408\n",
            "\n",
            "2番目\n",
            "状態 : 144115188075857919\n",
            "行動 : 2048\n",
            "\n",
            "3番目\n",
            "状態 : 4986819150025533421520863\n",
            "行動 : 35072\n",
            "\n",
            "4番目\n",
            "状態 : 9671406701032496351414239\n",
            "行動 : 16384\n",
            "\n",
            "5番目\n",
            "状態 : 15716035799105642224944095\n",
            "行動 : 49280\n",
            "\n",
            "6番目\n",
            "状態 : 1729382325629748191\n",
            "行動 : 2048\n",
            "\n",
            "7番目\n",
            "状態 : 4986820735292670975411151\n",
            "行動 : 35072\n",
            "\n",
            "8番目\n",
            "状態 : 9671408286299633905304527\n",
            "行動 : 8192\n",
            "\n",
            "9番目\n",
            "状態 : 15111574474565465191481807\n",
            "行動 : 41088\n",
            "\n"
          ],
          "name": "stdout"
        }
      ]
    },
    {
      "cell_type": "markdown",
      "metadata": {
        "id": "8-6caZTrSRrc"
      },
      "source": [
        "## 盤面の判定をする関数の生成 "
      ]
    },
    {
      "cell_type": "markdown",
      "metadata": {
        "id": "5UBd219QUieY"
      },
      "source": [
        "盤面に対して、lineがあるかどうか、あるならどちらの駒かを確認する。\n",
        "```\n",
        "def check_line(state) -> [is_line, is_first_line]:\n",
        "\tstateのboard部分からsurface_boardを作成\n",
        "\t# プレイヤーごとに３目並べの判定をし、もし揃っていたら\n",
        "\t\tis_line = True\n",
        "\t\tis_first_line = そのlineがfirst_playerのものかどうか\n",
        "\t# そろってなかったら, is_lineはFalse\n",
        "\treturn [is_line, is_first_line]\n",
        "```\n",
        "\n",
        "surface_board\n",
        " … boardで上に駒が重なっている駒を0にした。\n",
        "\n",
        "追記: check_result(state) -> [is_done, winner]:に変更  \n",
        "- is_done : lineがあるか\n",
        "- winner : 先手なら0, 後手なら1"
      ]
    },
    {
      "cell_type": "code",
      "metadata": {
        "id": "sua0b6AoVWf0"
      },
      "source": [
        "# 勝敗の有無\n",
        "def is_win(single_surface):\n",
        "  s = single_surface\n",
        "  # 横, 縦, 左斜め, 右斜めのラインを調べる\n",
        "  check_lines = [[0,1,2], [3,4,5], [6,7,8], [0,3,6], [1,4,7], [2,5,8], [0,4,8], [2,4,6]]\n",
        "  for check_line in check_lines:\n",
        "    if s[check_line[0]] and s[check_line[1]] and s[check_line[2]]:\n",
        "      return True;\n",
        "  return False;\n",
        "# 表面の駒だけbitが立つboardを作成する\n",
        "def create_surface(board):\n",
        "  # boardの変換\n",
        "  board_list_list = [0] * 6\n",
        "  for i in range(6):\n",
        "    board_list_list[i] = list(board[i*9:i*9+9])\n",
        "  board_surface = [[0,0,0,0,0,0,0,0,0],[0,0,0,0,0,0,0,0,0],\n",
        "                    [0,0,0,0,0,0,0,0,0],[0,0,0,0,0,0,0,0,0],\n",
        "                    [0,0,0,0,0,0,0,0,0],[0,0,0,0,0,0,0,0,0]]\n",
        "  # S駒を反映させる\n",
        "  board_surface[2] = board_list_list[2]\n",
        "  board_surface[5] = board_list_list[5]\n",
        "  # このとき、おいた場所により小さい駒があったら、その駒を0にする\n",
        "  # １マスずつ見ていく\n",
        "  for place in range(9):\n",
        "    # M駒を反映させる\n",
        "    if board_list_list[1][place] == \"1\" or board_list_list[4][place] == \"1\":\n",
        "      if board_list_list[1][place] == \"1\":\n",
        "        board_surface[1][place] = 1\n",
        "      if board_list_list[4][place] == \"1\":\n",
        "        board_surface[4][place] = 1\n",
        "      board_surface[2][place] = 0 # S駒を0にする\n",
        "      board_surface[5][place] = 0\n",
        "    # L駒を反映させる\n",
        "    if board_list_list[0][place] == \"1\" or board_list_list[3][place] == \"1\":\n",
        "      if board_list_list[0][place] == \"1\":\n",
        "        board_surface[0][place] = 1\n",
        "      if board_list_list[3][place] == \"1\":\n",
        "        board_surface[3][place] = 1\n",
        "      board_surface[1][place] = 0 # M駒を0にする\n",
        "      board_surface[4][place] = 0\t\n",
        "      board_surface[2][place] = 0 # S駒を0にする\n",
        "      board_surface[5][place] = 0\n",
        "  return board_surface\n",
        "\n",
        "#勝敗の有無、勝者を確認する\n",
        "def check_result(state):\n",
        "  board = f'{state:084b}'[18:18+54]\n",
        "  board_surface = create_surface(board)\n",
        "  is_done = 0 # 決着がついているなら1を返す\n",
        "  winner = 0 # 先手は0, 後手は1\n",
        "  # 内部でboard_surface[0,1,2]とboard_surface[3,4,5]を合成\n",
        "  single_surfaces = [[0,0,0,0,0,0,0,0,0],[0,0,0,0,0,0,0,0,0]];\n",
        "  for i in range(9):\n",
        "    if board_surface[0][i] == 1 or board_surface[1][i] == 1 or board_surface[2][i] == 1:\n",
        "      single_surfaces[0][i] = 1\n",
        "    elif board_surface[3][i] == 1 or board_surface[4][i] == 1 or board_surface[5][i] == 1:\n",
        "      single_surfaces[1][i] = 1\n",
        "  is_done = is_win(single_surfaces[0]) == 1 or is_win(single_surfaces[1]) == 1\n",
        "  winner = 1 if is_win(single_surfaces[1]) == 1 else 0\n",
        "  return [is_done, winner]"
      ],
      "execution_count": 105,
      "outputs": []
    },
    {
      "cell_type": "markdown",
      "metadata": {
        "id": "qijJGxufXQ76"
      },
      "source": [
        "# ゲーム木の作成"
      ]
    },
    {
      "cell_type": "markdown",
      "metadata": {
        "id": "ERpd6sE4nzsT"
      },
      "source": [
        "## 説明"
      ]
    },
    {
      "cell_type": "markdown",
      "metadata": {
        "id": "4WGIkHg3nvRf"
      },
      "source": [
        "ノードの３状態:\n",
        "  - 未発見\n",
        "    unsolved, solvedのいずれにもnext_nodeが存在しない\n",
        "  - 未訪問\n",
        "    unsolvedに存在する\n",
        "  - 既訪問\n",
        "    solvedに存在する\n",
        "\n",
        "処理:\n",
        "- 初期状態\"____\"を未訪問にする.\n",
        "- 未訪問キューが空になるまで以下を行う # BFS開始\n",
        "  1. 未訪問キューから先頭のノードをcurrent_nodeとしてpopする.\n",
        "  1. 盤面の勝敗判定を行う。\n",
        "    1. もし、勝敗がついている盤面なら、\n",
        "      1. RESULTに勝敗を記録\n",
        "    1. 勝敗がついていない盤面なら\n",
        "      1. current_nodeを探索し、次のノード(next_nodes)全てをnext_nodesとして列挙する.\n",
        "      1. next_nodesの要素next_nodeそれぞれに対して、以下を行う.\n",
        "        1. もし、next_nodeが未発見ならば、\n",
        "          1. そのノードを未訪問にする.\n",
        "        1. そうではなく、発見済みならば\n",
        "          1. 特になし.\n",
        "        1. next_node.previous_nodeにcurrent_nodeを追加する.\n",
        "        1. current_node.next_node.にnext_nodeを追加する.\n",
        "  1. ノード（current_node）を既訪問にする.\n",
        "\n",
        "1. solvedをcsvで書き出し."
      ]
    },
    {
      "cell_type": "markdown",
      "metadata": {
        "id": "H9CVRhh7nyxF"
      },
      "source": [
        "## 実装"
      ]
    },
    {
      "cell_type": "markdown",
      "metadata": {
        "id": "fUc41D_un4jc"
      },
      "source": [
        "### 準備"
      ]
    },
    {
      "cell_type": "code",
      "metadata": {
        "id": "F_jQ5_z9oAFm",
        "colab": {
          "base_uri": "https://localhost:8080/"
        },
        "outputId": "96e59b3e-fef0-42b7-fe0e-1de6d670b05a"
      },
      "source": [
        "# ドライブのマウント\n",
        "from google.colab import drive\n",
        "drive.mount('/content/drive')"
      ],
      "execution_count": 107,
      "outputs": [
        {
          "output_type": "stream",
          "text": [
            "Drive already mounted at /content/drive; to attempt to forcibly remount, call drive.mount(\"/content/drive\", force_remount=True).\n"
          ],
          "name": "stdout"
        }
      ]
    },
    {
      "cell_type": "code",
      "metadata": {
        "id": "T6EMLOhgoAzJ"
      },
      "source": [
        "# csvの読み込むためのモジュール\n",
        "import pandas as pd\n",
        "from pandas import DataFrame\n",
        "import numpy as np\n",
        "from tabulate import tabulate # pandasのdfをきれいに出力するためのモジュール"
      ],
      "execution_count": 108,
      "outputs": []
    },
    {
      "cell_type": "markdown",
      "metadata": {
        "id": "fzCTaiN9oJsC"
      },
      "source": [
        "### 探索"
      ]
    },
    {
      "cell_type": "code",
      "metadata": {
        "colab": {
          "base_uri": "https://localhost:8080/"
        },
        "id": "TSHnyAicoR4Z",
        "outputId": "bad9c547-2f5d-4548-8155-14453edf0d58"
      },
      "source": [
        "### BFSでゲーム木を作成するプログラム ### \n",
        "\n",
        "###\n",
        "\n",
        "# stateを入力すると、その盤面の勝敗を返す関数\n",
        "def resultcheck(state: str) -> str:\n",
        "  # return 一覧\n",
        "    # \"o_win\"\n",
        "    # \"x_win\"\n",
        "    # \"draw\"\n",
        "    # \"\"\n",
        "  result = \"\"\n",
        "  return result\n",
        "\n",
        "# state を入力すると、次のstateのリストを出力する関数\n",
        "\n",
        "def nextStates(state: str) -> list: \n",
        "  return next_states\n",
        "\n",
        "### 設定ここから ###\n",
        "printFlag = True\n",
        "pd.options.display.max_rows = 100\n",
        "pd.options.display.max_columns = 100\n",
        "### 設定ここまで ###\n",
        "\n",
        "###mainここから\n",
        "\n",
        "# unsolvedDf, solvedDfの初期化\n",
        "if printFlag:\n",
        "  print(\"===\")\n",
        "  print(\"プログラム開始\")\n",
        "  print(\"===\")\n",
        "  print()\n",
        "  print(\"データを初期化します\")\n",
        "cols = [\"PREVIOUS_STATES\", \"STATE\", \"NEXT_STATES\", \"RESULT\"] #[前の状態list， 状態, 次の状態list]\n",
        "df = pd.DataFrame(index=[], columns=cols)\n",
        "df.set_index(\"STATE\")\n",
        "unsolvedDf = df\n",
        "solvedDf = df\n",
        "if printFlag:\n",
        "  print(\"データを初期化しました\")\n",
        "  print()\n",
        "\n",
        "# 初期状態\"____\"をunsolvedに追加する。unsolvedに積まれているノードは未訪問.\n",
        "if printFlag:\n",
        "  print(\"===\")\n",
        "  print(\"BFSの準備\")\n",
        "  print(\"===\")\n",
        "  print()\n",
        "  print(\"初期状態をセットします\")\n",
        "init_state = 0b_1_0_0_000000_000000000_000000000000000000000000000000000000000000000000000000_111111111111\n",
        "previous_state = \"\"\n",
        "unsolvedDf = unsolvedDf.append(pd.Series([[previous_state], init_state, \"unsolved\", \"\"], index=df.columns, name=init_state))\n",
        "if printFlag:\n",
        "  print(\"初期状態をセットしました\") # 確認\n",
        "  print(\"確認[UNSOLVED_DF]:\") # 確認\n",
        "  print(unsolvedDf) # 確認\n",
        "  print() # 確認\n",
        "\n",
        "# unsolvedが空になるまで以下を行う. BFS開始\n",
        "if printFlag:\n",
        "  print(\"===\")\n",
        "  print(\"BFSを開始します\")\n",
        "  print(\"===\")\n",
        "  print()\n",
        "for _ in range(1000): # while len(unsolvedDf) > 0: # 開発のためにfor文にしている。\n",
        "  pass;\n",
        "  # # unsolvedDfから先頭のノードをpopする。\n",
        "  # if len(unsolvedDf) <= 0:\n",
        "  #   break;\n",
        "  # current_node = unsolvedDf.iloc[0]  # 先頭のノード(current_node)を抽出。\n",
        "  # unsolvedDf.drop(unsolvedDf.index[0], inplace=True)  # 抽出したノードをunsolvedから削除。\n",
        "  # # 勝敗の確認\n",
        "  # result = resultcheck(current_node.STATE)\n",
        "  # # 勝敗確定盤面なら\n",
        "  # if result != \"\":\n",
        "  #   current_node.RESULT = result\n",
        "  #   current_node.NEXT_STATES = []\n",
        "  # else:  # 勝敗確定盤面でないなら\n",
        "  #   # 先頭のノード(current_node)から次のノード(next_nodes)を探索する。\n",
        "  #   next_states = nextStates(current_node.STATE) # 次のノードの探索結果\n",
        "  #   current_node.NEXT_STATES = next_states # current_nodeのNEXT_STATESに探索結果を反映\n",
        "  #   # 探索した全ての状態について、以下を行う。\n",
        "  #   if printFlag:\n",
        "  #     print(\"unsolvedDfからpopされたノード'{}'の探索を行います\".format(current_node.STATE))\n",
        "  #   if len(next_states) <= 0:\n",
        "  #     if printFlag:\n",
        "  #       print(\"    探索結果: このノードは末端です\")\n",
        "  #   for next_state in next_states:\n",
        "  #     # もし、next_nodeが未発見ならば # unsolved, solvedのいずれにもnext_nodeが存在しない\n",
        "  #     if (next_state not in unsolvedDf.STATE.values) and (next_state not in solvedDf.STATE.values):\n",
        "  #       if next_state == current_node.STATE: # 次のノードが自身と同一\n",
        "  #         if printFlag:\n",
        "  #           print(\"探索結果: 自身のノード'{}'と同一です\".format(next_state))\n",
        "  #         continue;\n",
        "  #       else:\n",
        "  #         if printFlag:\n",
        "  #           print(\"    探索結果: 未発見のノード'{}'です\".format(next_state))\n",
        "  #         # T)そのノードを未訪問にする。 # unsolvedに追加\n",
        "  #         previous_state = [current_node.STATE]\n",
        "  #         next_node = pd.Series([previous_state, next_state, \"unsolved\", \"\"], index=df.columns, name=next_state) # next_nodeの作成\n",
        "  #         unsolvedDf = unsolvedDf.append(next_node)\n",
        "  #     else:  # F)そうではなく、発見済みならば\n",
        "  #       if printFlag:\n",
        "  #         print(\"    探索結果: 発見済みのノード'{}'です\".format(next_state))\n",
        "  #       #これを既に登録されていたノードのprevious_stateに追加する。\n",
        "  #       previous_state = [current_node.STATE] \n",
        "  #       if next_state in unsolvedDf.STATE.values: # unsolvedDfに存在\n",
        "  #         if printFlag:\n",
        "  #           print(\"        これはunsolvedに存在しています\")\n",
        "  #         # unsolvedDf[unsolvedDf.STATE.values == next_state])にprevious_stateを追加する\n",
        "  #         tmp = unsolvedDf.loc[next_state, \"PREVIOUS_STATES\"]\n",
        "  #         tmp.append(previous_state[0])       \n",
        "  #         unsolvedDf.loc[next_state, \"PREVIOUS_STATES\"] = tmp\n",
        "  #       elif next_state in solvedDf.STATE.values:# solveDfに存在\n",
        "  #         if printFlag:\n",
        "  #           print(\"        これはsolvedに存在しています\")\n",
        "  #         # solvedDf[solvedDf.STATE.values == next_state])にprevious_stateを追加する\n",
        "  #         tmp = solvedDf.loc[next_state, \"PREVIOUS_STATES\"]\n",
        "  #         tmp.append(previous_state[0])       \n",
        "  #         solvedDf.loc[next_state, \"PREVIOUS_STATES\"] = tmp\n",
        "  #       else: # 何らかの理由で漏れた状態\n",
        "  #         print(\"        エラー\")\n",
        "  # # 現在のノード（current_node）をsolvedDfに追加する。solvedDfのノードは既訪問。 \n",
        "  # solvedDf = solvedDf.append(current_node)\n",
        "\n",
        "if printFlag:\n",
        "  print()\n",
        "  print(\"BFSが終了しました\")\n",
        "  print()\n",
        "\n",
        "# 結果確認\n",
        "print(\"===\")\n",
        "print(\"結果確認\")\n",
        "print(\"===\")\n",
        "print()\n",
        "print(\"確認[unsolvedDf]:\")\n",
        "print()\n",
        "print(tabulate(unsolvedDf, unsolvedDf.columns,tablefmt='github', showindex=True))\n",
        "print()\n",
        "print(\"確認[solvedDf]:\")\n",
        "print()\n",
        "print(tabulate(solvedDf, solvedDf.columns,tablefmt='github', showindex=True))\n",
        "print()\n",
        "\n",
        "\n",
        "### mainここまで"
      ],
      "execution_count": 120,
      "outputs": [
        {
          "output_type": "stream",
          "text": [
            "===\n",
            "プログラム開始\n",
            "===\n",
            "\n",
            "データを初期化します\n",
            "データを初期化しました\n",
            "\n",
            "===\n",
            "BFSの準備\n",
            "===\n",
            "\n",
            "初期状態をセットします\n",
            "初期状態をセットしました\n",
            "確認[UNSOLVED_DF]:\n",
            "                          PREVIOUS_STATES                      STATE  \\\n",
            "9671406556917033397653503              []  9671406556917033397653503   \n",
            "\n",
            "                          NEXT_STATES RESULT  \n",
            "9671406556917033397653503    unsolved         \n",
            "\n",
            "===\n",
            "BFSを開始します\n",
            "===\n",
            "\n",
            "\n",
            "BFSが終了しました\n",
            "\n",
            "===\n",
            "結果確認\n",
            "===\n",
            "\n",
            "確認[unsolvedDf]:\n",
            "\n",
            "|                           | PREVIOUS_STATES   |                     STATE | NEXT_STATES   | RESULT   |\n",
            "|---------------------------|-------------------|---------------------------|---------------|----------|\n",
            "| 9671406556917033397653503 | ['']              | 9671406556917033397653503 | unsolved      |          |\n",
            "\n",
            "確認[solvedDf]:\n",
            "\n",
            "| PREVIOUS_STATES   | STATE   | NEXT_STATES   | RESULT   |\n",
            "|-------------------|---------|---------------|----------|\n",
            "\n"
          ],
          "name": "stdout"
        }
      ]
    },
    {
      "cell_type": "code",
      "metadata": {
        "id": "vRaZVfnfqZXA"
      },
      "source": [
        ""
      ],
      "execution_count": null,
      "outputs": []
    }
  ]
}