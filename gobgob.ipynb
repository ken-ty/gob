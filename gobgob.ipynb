{
  "nbformat": 4,
  "nbformat_minor": 0,
  "metadata": {
    "colab": {
      "name": "gobgob.ipynb",
      "provenance": [],
      "collapsed_sections": [],
      "authorship_tag": "ABX9TyPxCIHC8YWat1i9OsJA4Glc",
      "include_colab_link": true
    },
    "kernelspec": {
      "name": "python3",
      "display_name": "Python 3"
    }
  },
  "cells": [
    {
      "cell_type": "markdown",
      "metadata": {
        "id": "view-in-github",
        "colab_type": "text"
      },
      "source": [
        "<a href=\"https://colab.research.google.com/github/kentokura/gob/blob/main/gobgob.ipynb\" target=\"_parent\"><img src=\"https://colab.research.google.com/assets/colab-badge.svg\" alt=\"Open In Colab\"/></a>"
      ]
    },
    {
      "cell_type": "code",
      "metadata": {
        "id": "m68H7RiAYtBk"
      },
      "source": [
        "#  id\n",
        "# ( R or B )+ ( a ~ i , z 及びその大文字からなる12文字)\n",
        "#  id 例 : Rzzzzzzzzzzzz\n",
        "\n",
        "# choise_piece, board\n",
        "# [RL, RM, RS, BL, BM, BS, hand] と並んでいる。\n",
        "# RL ~ BS は[0,0,0,0,0,0,0,0,0] で、[a~i]のマスの場所を表す\n",
        "# handは[2,2,2,2,2,2]で、RL...BSの順に持ち駒の数を表す"
      ],
      "execution_count": 2,
      "outputs": []
    },
    {
      "cell_type": "code",
      "metadata": {
        "id": "EoKbLYV7JxaV"
      },
      "source": [
        "# id , choise_piece, boardの相互変換\n",
        "\n",
        "# アルファベットを数字に変換 a -> 0\n",
        "alpha2num = lambda c: ord(c) - ord('a')\n",
        "# 数字をアルファベットに変換 0 -> a\n",
        "num2alpha = lambda c: chr(c+64)\n",
        "# 数字と場所の対応表\n",
        "num2place_dict = {0:'a', 1:'b', 2:'c', 3:'d', 4:'e', 5:'f', 6:'g', 7:'h', 8:'i'}\n",
        "\n",
        "# idからchoise_pieceを作成\n",
        "def id2choise_piece(id):\n",
        "  choise_piece = [\n",
        "          [0,0,0,0,0,0,0,0,0],[0,0,0,0,0,0,0,0,0],[0,0,0,0,0,0,0,0,0],\n",
        "          [0,0,0,0,0,0,0,0,0],[0,0,0,0,0,0,0,0,0],[0,0,0,0,0,0,0,0,0],\n",
        "          [0,0,0,0,0,0]\n",
        "          ]\n",
        "  if id.islower() == True:\n",
        "    return choise_piece\n",
        "  for i, piece in enumerate(id[1:]):\n",
        "    pieces_type = i // 2\n",
        "    # 大文字をchoise_pieseに反映\n",
        "    if piece.isupper() == True:\n",
        "      if piece == \"Z\":\n",
        "        choise_piece[6][pieces_type] = 1\n",
        "      else:\n",
        "        choise_piece[pieces_type][alpha2num(piece.lower())] = 1\n",
        "      return choise_piece\n",
        "  return choise_piece\n",
        "\n",
        "# idからboardを作成\n",
        "def id2board(id):\n",
        "  board = [\n",
        "          [0,0,0,0,0,0,0,0,0],[0,0,0,0,0,0,0,0,0],[0,0,0,0,0,0,0,0,0],\n",
        "          [0,0,0,0,0,0,0,0,0],[0,0,0,0,0,0,0,0,0],[0,0,0,0,0,0,0,0,0],\n",
        "          [0,0,0,0,0,0]\n",
        "          ]\n",
        "  for i, piece in enumerate(id[1:]):\n",
        "    pieces_type = i // 2\n",
        "    if piece.isupper() == True:\n",
        "      continue;\n",
        "    if piece == \"z\":\n",
        "      board[6][pieces_type] += 1\n",
        "    else: # piece == a ~ i\n",
        "      board[pieces_type][alpha2num(piece.lower())] = 1\n",
        "  return board\n",
        "\n",
        "# color, choise_piece, boardからidへ変換\n",
        "def create_id(color, choise_piece, board):\n",
        "  color = color\n",
        "  choise_piece = choise_piece\n",
        "  board = board\n",
        "  pieces = \"\"\n",
        "  str = [\"zz\",\"zz\",\"zz\",\"zz\",\"zz\",\"zz\"]\n",
        "  # boardをpiecesに反映\n",
        "  for i, strings in enumerate(board[:6]):\n",
        "    str[i] = \"\"\n",
        "    # piecesを前から更新していく\n",
        "    # num2place_dictのkeyと[0,0,...,0]の1の位置の数が同じkeyを取得\n",
        "    for j, p in enumerate(strings):\n",
        "      if p == 1:\n",
        "        str[i] += num2place_dict[j]\n",
        "    str[i] = str[i].ljust(2, \"z\")\n",
        "  pieces = ''.join(str)\n",
        "  # choise_pieceをpiecesに反映\n",
        "  if choise_piece == [\n",
        "              [0,0,0,0,0,0,0,0,0],[0,0,0,0,0,0,0,0,0],[0,0,0,0,0,0,0,0,0],\n",
        "              [0,0,0,0,0,0,0,0,0],[0,0,0,0,0,0,0,0,0],[0,0,0,0,0,0,0,0,0],\n",
        "              [0,0,0,0,0,0]\n",
        "          ]:\n",
        "    pass;\n",
        "  else: \n",
        "    # [:6]まで対応\n",
        "    for i, strings in enumerate(choise_piece[:6]):\n",
        "      for j, p in enumerate(strings):\n",
        "        if p == 1:\n",
        "          char = num2place_dict[j].upper()\n",
        "          pieces = list(pieces)\n",
        "          pieces[i*2+1] = char\n",
        "          pieces = \"\".join(pieces)\n",
        "          break;\n",
        "    # handの対応\n",
        "    for i, q in enumerate(choise_piece[6]):\n",
        "      if q == 1:\n",
        "        char = \"Z\"\n",
        "        pieces = list(pieces)\n",
        "        pieces[i*2+1] = char\n",
        "        pieces = \"\".join(pieces)\n",
        "  id = color + pieces\n",
        "  return id"
      ],
      "execution_count": 3,
      "outputs": []
    },
    {
      "cell_type": "code",
      "metadata": {
        "id": "GnrVrc_AOGDm"
      },
      "source": [
        "class State:\n",
        "  # 初期化\n",
        "  def __init__(self, id=None):\n",
        "    self.id = id if id != None else \"rzzzzzzzzzzzz\"\n",
        "    self.mode = \"put\" if self.id == self.id.lower() else \"choise\"\n",
        "    self.pieces = self.id[1:]\n",
        "    self.color = self.id[0]\n",
        "    # [RL, RM, RS, BL, BM, BS, hand]\n",
        "    self.choise_piece = [\n",
        "            [0,0,0,0,0,0,0,0,0],[0,0,0,0,0,0,0,0,0],[0,0,0,0,0,0,0,0,0],\n",
        "            [0,0,0,0,0,0,0,0,0],[0,0,0,0,0,0,0,0,0],[0,0,0,0,0,0,0,0,0],\n",
        "            [0,0,0,0,0,0]\n",
        "            ];\n",
        "    self.board = [\n",
        "            [0,0,0,0,0,0,0,0,0],[0,0,0,0,0,0,0,0,0],[0,0,0,0,0,0,0,0,0],\n",
        "            [0,0,0,0,0,0,0,0,0],[0,0,0,0,0,0,0,0,0],[0,0,0,0,0,0,0,0,0],\n",
        "            [0,0,0,0,0,0]\n",
        "            ];\n",
        "    self.choise_piece = id2choise_piece(self.id)\n",
        "    self.board = id2board(self.id)\n",
        "  # 確認\n",
        "  def __str__(self):\n",
        "    str = \"mode\\t= {}\\n\".format(self.mode)\n",
        "    str += \"pieces\\t= {}\\n\".format(self.pieces)\n",
        "    str += \"color\\t= {}\\n\".format(self.color)\n",
        "    str += \"choise_piece\\t= {}\\n\".format(self.choise_piece)\n",
        "    str += \"board\\t= {}\\n\".format(self.board)\n",
        "    return str"
      ],
      "execution_count": 4,
      "outputs": []
    },
    {
      "cell_type": "code",
      "metadata": {
        "colab": {
          "base_uri": "https://localhost:8080/"
        },
        "id": "6NKlkhlHwzL_",
        "outputId": "48d80f77-ed75-47c8-a488-d0d920d5a4bc"
      },
      "source": [
        "# 合法手\n",
        "# actions = [action1, action2,...を合体]\n",
        "# action = [\n",
        "#           [0,0,0,0,0,0,0,0,0],[0,0,0,0,0,0,0,0,0],[0,0,0,0,0,0,0,0,0],\n",
        "#           [0,0,0,0,0,0,0,0,0],[0,0,0,0,0,0,0,0,0],[0,0,0,0,0,0,0,0,0],\n",
        "#           [0,0,0,0,0,0]\n",
        "#           ]  # 1ビットのみ立つ\n",
        "def legal_actions(state: State) -> list:\n",
        "  RL = state.board[0]\n",
        "  RM = state.board[1]\n",
        "  RS = state.board[2]\n",
        "  BL = state.board[3]\n",
        "  BM = state.board[4]\n",
        "  BS = state.board[5]\n",
        "  HAND = state.board[6]\n",
        "  choise_piece_type = 6 # デフォルトはhand\n",
        "  choise_piece_place = 0\n",
        "  actions = 0\n",
        "  if state.mode == \"choise\": # stateはchoise、ここではchoiseした駒を置く行動を絞り込む\n",
        "    # 選んだ駒以外行動できませーーーん\n",
        "    actions = [\n",
        "               [0,0,0,0,0,0,0,0,0],[0,0,0,0,0,0,0,0,0],[0,0,0,0,0,0,0,0,0],\n",
        "               [0,0,0,0,0,0,0,0,0],[0,0,0,0,0,0,0,0,0],[0,0,0,0,0,0,0,0,0],\n",
        "               [0,0,0,0,0,0]\n",
        "               ];\n",
        "    for i in range(6): # handは絶対だめだから見ない\n",
        "      if state.choise_piece[i] != [0,0,0,0,0,0,0,0,0]:\n",
        "        choise_piece_type = i\n",
        "        actions[choise_piece_type] = [1,1,1,1,1,1,1,1,1];\n",
        "    # choiseしたところに戻すのもだめーー\n",
        "    for j, c_p in enumerate(state.choise_piece[choise_piece_type]):\n",
        "      if c_p == 1:\n",
        "        choise_piece_place = j\n",
        "        actions[choise_piece_type][choise_piece_place] = 0\n",
        "    # choiseした駒と同じ大きさ以上があったらおけませーーん\n",
        "    for i in range(9):\n",
        "      if RL[i] == 1 or BL[i] == 1: # でかいのがおいてあるよ\n",
        "        for j in [0,1,2,3,4,5]:\n",
        "          actions[choise_piece_type][i] = 0 # 比較せず、だめ。\n",
        "      elif RM[i] == 1 or BM[i] == 1: # 中くらい\n",
        "        if choise_piece_type not in [0, 3]: # でかならおける、ほかだめ。\n",
        "          actions[choise_piece_type][i] = 0\n",
        "      elif RS[i] == 1 or BS[i] == 1: # ちっっちゃい\n",
        "        if choise_piece_type not in [0,1,3,4]: # でか、ちゅうならおける、ほかだめ。\n",
        "          actions[choise_piece_type][i] = 0\n",
        "  elif state.mode == \"put\": # stateはput、ここではchoiseする駒を選べる行動を絞り込む hand　or 盤面の表面\n",
        "    # 駒がなければ選べないよ\n",
        "    actions = state.board\n",
        "    # handの2を1にしておく\n",
        "    for i, h in enumerate(HAND):\n",
        "      if h == 2:\n",
        "        actions[6][i] = 1\n",
        "    # rのputなら次の選択はbだね、b以外選べないよ\n",
        "    if state.color == \"r\":\n",
        "      for i in [0,1,2]:\n",
        "        actions[i] = [0,0,0,0,0,0,0,0,0]\n",
        "    else: # \"b\"\n",
        "      for i in [3,4,5]:\n",
        "        actions[i] = [0,0,0,0,0,0,0,0,0]\n",
        "    # 上になんかあったら選べない\n",
        "    for i in range(9):\n",
        "      if RL[i] == 1 or BL[i] == 1:\n",
        "        for j in [1,2,4,5]:\n",
        "          actions[j][i] = 0\n",
        "      elif RM[i] == 1 or BM[i] == 1:\n",
        "        for j in [2,5]:\n",
        "          actions[j][i] = 0\n",
        "  return actions\n",
        "\n",
        "#  test # \n",
        "state = State(\"rabcdefghhzzz\")\n",
        "print(\"{}モードでテスト\\n\".format(state.mode))\n",
        "print(\"actions = \")\n",
        "print(legal_actions(state))"
      ],
      "execution_count": 22,
      "outputs": [
        {
          "output_type": "stream",
          "text": [
            "putモードでテスト\n",
            "\n",
            "actions = \n",
            "[[0, 0, 0, 0, 0, 0, 0, 0, 0], [0, 0, 0, 0, 0, 0, 0, 0, 0], [0, 0, 0, 0, 0, 0, 0, 0, 0], [0, 0, 0, 0, 0, 0, 1, 1, 0], [0, 0, 0, 0, 0, 0, 0, 0, 0], [0, 0, 0, 0, 0, 0, 0, 0, 0], [0, 0, 0, 0, 1, 1]]\n"
          ],
          "name": "stdout"
        }
      ]
    },
    {
      "cell_type": "code",
      "metadata": {
        "id": "5F9ra07Qmeni"
      },
      "source": [
        "state = State(\"rzzzzzzzzzzzz\")\n",
        "print(\"{}でテスト\".format(state.mode))\n",
        "print(legal_actions(state))"
      ],
      "execution_count": null,
      "outputs": []
    },
    {
      "cell_type": "code",
      "metadata": {
        "id": "XVsUalSZmmVO"
      },
      "source": [
        "state = State(\"rzzzzzzzzzzzz\")\n",
        "print(\"{}でテスト\".format(state.mode))\n",
        "print(state.choise_piece)"
      ],
      "execution_count": null,
      "outputs": []
    },
    {
      "cell_type": "code",
      "metadata": {
        "id": "HFHhHSoWOGtY"
      },
      "source": [
        ""
      ],
      "execution_count": null,
      "outputs": []
    }
  ]
}